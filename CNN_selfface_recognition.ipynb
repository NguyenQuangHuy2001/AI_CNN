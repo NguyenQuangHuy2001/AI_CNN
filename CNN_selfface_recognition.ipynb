{
  "nbformat": 4,
  "nbformat_minor": 0,
  "metadata": {
    "colab": {
      "name": "CNN_selfface_recognition.ipynb",
      "provenance": [],
      "collapsed_sections": [],
      "mount_file_id": "1cP2D6PLQ22RKlJyb4QXR7NuDBgTrhpuJ",
      "authorship_tag": "ABX9TyMSS1ANHR6/1NSh/eW/1YsK",
      "include_colab_link": true
    },
    "kernelspec": {
      "name": "python3",
      "display_name": "Python 3"
    },
    "language_info": {
      "name": "python"
    },
    "accelerator": "GPU"
  },
  "cells": [
    {
      "cell_type": "markdown",
      "metadata": {
        "id": "view-in-github",
        "colab_type": "text"
      },
      "source": [
        "<a href=\"https://colab.research.google.com/github/NguyenQuangHuy2001/AI_CNN/blob/main/CNN_selfface_recognition.ipynb\" target=\"_parent\"><img src=\"https://colab.research.google.com/assets/colab-badge.svg\" alt=\"Open In Colab\"/></a>"
      ]
    },
    {
      "cell_type": "markdown",
      "source": [
        "Khai báo thư viện"
      ],
      "metadata": {
        "id": "r40f6wDsCsbv"
      }
    },
    {
      "cell_type": "code",
      "execution_count": null,
      "metadata": {
        "id": "J2QurLt6k-Sa"
      },
      "outputs": [],
      "source": [
        "from keras.models import Sequential\n",
        "from keras.layers import Dense, Flatten, Dropout, Conv2D, MaxPool2D\n",
        "from keras.utils import np_utils\n",
        "from tensorflow.keras.optimizers import Adam, SGD\n",
        "from tensorflow.keras.preprocessing.image import load_img, img_to_array\n",
        "import glob\n",
        "import pandas as pd\n",
        "import numpy as np\n",
        "import matplotlib.pyplot as plt\n",
        "from random import randint\n",
        "import cv2\n"
      ]
    },
    {
      "cell_type": "markdown",
      "source": [
        "Load dữ liệu train đã up lên drive cá nhân"
      ],
      "metadata": {
        "id": "spxr_U0ECv2c"
      }
    },
    {
      "cell_type": "code",
      "source": [
        "train_list = glob.glob('/content/drive/MyDrive/HInhAI/Train/*.jpg')\n",
        "train_list.sort()\n",
        "print (train_list)\n",
        "#/content/drive/MyDrive/HInhAI/Train"
      ],
      "metadata": {
        "colab": {
          "base_uri": "https://localhost:8080/"
        },
        "id": "v5SBDH9rlCQb",
        "outputId": "9555d472-08f3-46aa-957d-1e7cf0371ee7"
      },
      "execution_count": null,
      "outputs": [
        {
          "output_type": "stream",
          "name": "stdout",
          "text": [
            "['/content/drive/MyDrive/HInhAI/Train/BanVuong_00.jpg', '/content/drive/MyDrive/HInhAI/Train/BanVuong_01.jpg', '/content/drive/MyDrive/HInhAI/Train/BanVuong_02.jpg', '/content/drive/MyDrive/HInhAI/Train/BanVuong_03.jpg', '/content/drive/MyDrive/HInhAI/Train/BanVuong_04.jpg', '/content/drive/MyDrive/HInhAI/Train/BanVuong_05.jpg', '/content/drive/MyDrive/HInhAI/Train/BanVuong_06.jpg', '/content/drive/MyDrive/HInhAI/Train/BanVuong_07.jpg', '/content/drive/MyDrive/HInhAI/Train/BanVuong_08.jpg', '/content/drive/MyDrive/HInhAI/Train/BanVuong_09.jpg', '/content/drive/MyDrive/HInhAI/Train/BanVuong_10.jpg', '/content/drive/MyDrive/HInhAI/Train/Bản sao của BanPhuc_00.jpg', '/content/drive/MyDrive/HInhAI/Train/Bản sao của BanPhuc_01.jpg', '/content/drive/MyDrive/HInhAI/Train/Bản sao của BanPhuc_02.jpg', '/content/drive/MyDrive/HInhAI/Train/Bản sao của BanPhuc_03.jpg', '/content/drive/MyDrive/HInhAI/Train/Bản sao của BanPhuc_04.jpg', '/content/drive/MyDrive/HInhAI/Train/Bản sao của BanPhuc_05.jpg', '/content/drive/MyDrive/HInhAI/Train/Bản sao của BanPhuc_06.jpg', '/content/drive/MyDrive/HInhAI/Train/Bản sao của BanPhuc_07.jpg', '/content/drive/MyDrive/HInhAI/Train/Bản sao của BanPhuc_08.jpg', '/content/drive/MyDrive/HInhAI/Train/Bản sao của BanPhuc_09.jpg', '/content/drive/MyDrive/HInhAI/Train/hinh11.jpg', '/content/drive/MyDrive/HInhAI/Train/hinh12.jpg', '/content/drive/MyDrive/HInhAI/Train/hinh13.jpg', '/content/drive/MyDrive/HInhAI/Train/hinh14.jpg', '/content/drive/MyDrive/HInhAI/Train/hinh15.jpg', '/content/drive/MyDrive/HInhAI/Train/hinh16.jpg', '/content/drive/MyDrive/HInhAI/Train/hinh17.jpg', '/content/drive/MyDrive/HInhAI/Train/hinh18.jpg', '/content/drive/MyDrive/HInhAI/Train/hinh19.jpg', '/content/drive/MyDrive/HInhAI/Train/hinh20.jpg', '/content/drive/MyDrive/HInhAI/Train/hinh21.jpg', '/content/drive/MyDrive/HInhAI/Train/hinh22.jpg', '/content/drive/MyDrive/HInhAI/Train/hinh23.jpg', '/content/drive/MyDrive/HInhAI/Train/hinh24.jpg', '/content/drive/MyDrive/HInhAI/Train/hinh25.jpg', '/content/drive/MyDrive/HInhAI/Train/hinh26.jpg', '/content/drive/MyDrive/HInhAI/Train/hinh27.jpg', '/content/drive/MyDrive/HInhAI/Train/hinh28.jpg', '/content/drive/MyDrive/HInhAI/Train/hinh29.jpg', '/content/drive/MyDrive/HInhAI/Train/hinh30.jpg']\n"
          ]
        }
      ]
    },
    {
      "cell_type": "markdown",
      "source": [
        "Load dữ liệu test đã up lên drive cá nhân"
      ],
      "metadata": {
        "id": "ye4HOeXqC-VJ"
      }
    },
    {
      "cell_type": "code",
      "source": [
        "test_list = glob.glob('/content/drive/MyDrive/HInhAI/Test/*.jpg')\n",
        "test_list.sort()\n",
        "print (test_list)\n",
        "#/content/drive/MyDrive/HInhAI/Test"
      ],
      "metadata": {
        "colab": {
          "base_uri": "https://localhost:8080/"
        },
        "id": "E6YIjHTslEvQ",
        "outputId": "fca1582a-10af-4141-d0cc-fdacb4b12c3f"
      },
      "execution_count": null,
      "outputs": [
        {
          "output_type": "stream",
          "name": "stdout",
          "text": [
            "['/content/drive/MyDrive/HInhAI/Test/BanPhuc_10.jpg', '/content/drive/MyDrive/HInhAI/Test/BanPhuc_11.jpg', '/content/drive/MyDrive/HInhAI/Test/BanPhuc_12.jpg', '/content/drive/MyDrive/HInhAI/Test/BanPhuc_13.jpg', '/content/drive/MyDrive/HInhAI/Test/BanPhuc_14.jpg', '/content/drive/MyDrive/HInhAI/Test/BanPhuc_15.jpg', '/content/drive/MyDrive/HInhAI/Test/BanPhuc_16.jpg', '/content/drive/MyDrive/HInhAI/Test/BanPhuc_17.jpg', '/content/drive/MyDrive/HInhAI/Test/BanPhuc_18.jpg', '/content/drive/MyDrive/HInhAI/Test/BanPhuc_19.jpg', '/content/drive/MyDrive/HInhAI/Test/BanPhuc_20.jpg', '/content/drive/MyDrive/HInhAI/Test/BanVuong_11.jpg', '/content/drive/MyDrive/HInhAI/Test/BanVuong_12.jpg', '/content/drive/MyDrive/HInhAI/Test/BanVuong_13.jpg', '/content/drive/MyDrive/HInhAI/Test/BanVuong_14.jpg', '/content/drive/MyDrive/HInhAI/Test/BanVuong_15.jpg', '/content/drive/MyDrive/HInhAI/Test/BanVuong_16.jpg', '/content/drive/MyDrive/HInhAI/Test/BanVuong_17.jpg', '/content/drive/MyDrive/HInhAI/Test/BanVuong_18.jpg', '/content/drive/MyDrive/HInhAI/Test/BanVuong_19.jpg', '/content/drive/MyDrive/HInhAI/Test/BanVuong_20.jpg', '/content/drive/MyDrive/HInhAI/Test/hinh1.jpg', '/content/drive/MyDrive/HInhAI/Test/hinh10.jpg', '/content/drive/MyDrive/HInhAI/Test/hinh2.jpg', '/content/drive/MyDrive/HInhAI/Test/hinh3.jpg', '/content/drive/MyDrive/HInhAI/Test/hinh4.jpg', '/content/drive/MyDrive/HInhAI/Test/hinh5.jpg', '/content/drive/MyDrive/HInhAI/Test/hinh6.jpg', '/content/drive/MyDrive/HInhAI/Test/hinh7.jpg', '/content/drive/MyDrive/HInhAI/Test/hinh8.jpg', '/content/drive/MyDrive/HInhAI/Test/hinh9.jpg']\n"
          ]
        }
      ]
    },
    {
      "cell_type": "markdown",
      "source": [
        "Xử lý dữ liệu"
      ],
      "metadata": {
        "id": "tp4WPVNxDLaW"
      }
    },
    {
      "cell_type": "code",
      "source": [
        "x_train = np.zeros([len(train_list),150,150,3],dtype=np.uint8)\n",
        "\n",
        "for i in range(len(train_list)):\n",
        "  image = load_img(train_list[i],target_size=(150,150))\n",
        "  array = img_to_array(image)\n",
        "  x_train[i] = array\n",
        "\n",
        "x_test = np.zeros([len(test_list),150,150,3],dtype=np.uint8)\n",
        "\n",
        "for i in range(len(test_list)):\n",
        "  image = load_img(test_list[i],target_size=(150,150))\n",
        "  array = img_to_array(image)\n",
        "  x_test[i] = array\n",
        "\n",
        "x_train = x_train.astype('float32')\n",
        "x_test = x_test.astype('float32')\n",
        "x_train /= 255.0\n",
        "x_test /= 255.0"
      ],
      "metadata": {
        "id": "bSIY5IhrlIQ-"
      },
      "execution_count": null,
      "outputs": []
    },
    {
      "cell_type": "code",
      "source": [
        "y_train = np.zeros([len(train_list)])\n",
        "y_test = np.array([0,0,0,0,0,0,0,0,0,0,0,0,0,0,0,0,0,0,0,0,0,1,1,1,1,1,1,1,1,1,1])\n",
        "\n",
        "for i in range (len(train_list)):\n",
        "  if i>=21 and i<42:\n",
        "    y_train[i] = 1\n",
        "  else:\n",
        "    y_train[i] = 0\n",
        "y_train = np_utils.to_categorical(y_train,2)\n",
        "y_test = np_utils.to_categorical(y_test,2)\n",
        "y_label = ['khong phai Huy','Ban Huy']\n",
        "print(y_train)"
      ],
      "metadata": {
        "colab": {
          "base_uri": "https://localhost:8080/"
        },
        "id": "ygr6n-lHlMZs",
        "outputId": "9188dc0e-d967-4dc3-9efb-b395f877b4b7"
      },
      "execution_count": null,
      "outputs": [
        {
          "output_type": "stream",
          "name": "stdout",
          "text": [
            "[[1. 0.]\n",
            " [1. 0.]\n",
            " [1. 0.]\n",
            " [1. 0.]\n",
            " [1. 0.]\n",
            " [1. 0.]\n",
            " [1. 0.]\n",
            " [1. 0.]\n",
            " [1. 0.]\n",
            " [1. 0.]\n",
            " [1. 0.]\n",
            " [1. 0.]\n",
            " [1. 0.]\n",
            " [1. 0.]\n",
            " [1. 0.]\n",
            " [1. 0.]\n",
            " [1. 0.]\n",
            " [1. 0.]\n",
            " [1. 0.]\n",
            " [1. 0.]\n",
            " [1. 0.]\n",
            " [0. 1.]\n",
            " [0. 1.]\n",
            " [0. 1.]\n",
            " [0. 1.]\n",
            " [0. 1.]\n",
            " [0. 1.]\n",
            " [0. 1.]\n",
            " [0. 1.]\n",
            " [0. 1.]\n",
            " [0. 1.]\n",
            " [0. 1.]\n",
            " [0. 1.]\n",
            " [0. 1.]\n",
            " [0. 1.]\n",
            " [0. 1.]\n",
            " [0. 1.]\n",
            " [0. 1.]\n",
            " [0. 1.]\n",
            " [0. 1.]\n",
            " [0. 1.]]\n"
          ]
        }
      ]
    },
    {
      "cell_type": "markdown",
      "source": [
        "Tạo model"
      ],
      "metadata": {
        "id": "U5IbRWe7DYTA"
      }
    },
    {
      "cell_type": "code",
      "source": [
        "model= Sequential()\n",
        "#BLOCK 1\n",
        "model.add(Conv2D(32, kernel_size=(5, 5), strides=(1, 1), input_shape=(150,150,3), activation='relu'))\n",
        "model.add(MaxPool2D(pool_size=(2,2)))\n",
        "#BLOCK 2\n",
        "model.add(Conv2D(64, kernel_size=(5, 5), strides=(1, 1), activation='relu')) \n",
        "model.add(MaxPool2D(pool_size=(2,2)))\n",
        "#BLOCK 3\n",
        "model.add(Flatten())\n",
        "model.add(Dense(64, activation='relu')) \n",
        "model.add(Dense(2, activation='softmax'))"
      ],
      "metadata": {
        "id": "TyipXIDVlPNB"
      },
      "execution_count": null,
      "outputs": []
    },
    {
      "cell_type": "markdown",
      "source": [
        "Training model"
      ],
      "metadata": {
        "id": "zesYQhpADapa"
      }
    },
    {
      "cell_type": "code",
      "source": [
        "model.compile(loss='categorical_crossentropy',optimizer=Adam(),metrics=['accuracy'])\n",
        "history = model.fit(x_train,y_train, epochs=150,batch_size = 128,validation_data=(x_test,y_test),verbose=1)"
      ],
      "metadata": {
        "colab": {
          "base_uri": "https://localhost:8080/"
        },
        "id": "3xvhANTElSZB",
        "outputId": "c993a42d-d2f7-4938-bad2-13384a07d503"
      },
      "execution_count": null,
      "outputs": [
        {
          "output_type": "stream",
          "name": "stdout",
          "text": [
            "Epoch 1/150\n",
            "1/1 [==============================] - 2s 2s/step - loss: 0.7326 - accuracy: 0.4878 - val_loss: 0.5620 - val_accuracy: 0.6774\n",
            "Epoch 2/150\n",
            "1/1 [==============================] - 0s 109ms/step - loss: 0.4330 - accuracy: 0.7317 - val_loss: 3.6824 - val_accuracy: 0.6774\n",
            "Epoch 3/150\n",
            "1/1 [==============================] - 0s 110ms/step - loss: 5.5500 - accuracy: 0.5122 - val_loss: 0.4559 - val_accuracy: 0.6774\n",
            "Epoch 4/150\n",
            "1/1 [==============================] - 0s 108ms/step - loss: 0.6743 - accuracy: 0.5122 - val_loss: 1.1530 - val_accuracy: 0.3226\n",
            "Epoch 5/150\n",
            "1/1 [==============================] - 0s 109ms/step - loss: 0.8813 - accuracy: 0.4878 - val_loss: 0.9493 - val_accuracy: 0.3226\n",
            "Epoch 6/150\n",
            "1/1 [==============================] - 0s 101ms/step - loss: 0.7277 - accuracy: 0.4878 - val_loss: 0.3817 - val_accuracy: 1.0000\n",
            "Epoch 7/150\n",
            "1/1 [==============================] - 0s 107ms/step - loss: 0.3619 - accuracy: 1.0000 - val_loss: 0.4372 - val_accuracy: 0.6774\n",
            "Epoch 8/150\n",
            "1/1 [==============================] - 0s 102ms/step - loss: 0.6315 - accuracy: 0.5122 - val_loss: 0.2711 - val_accuracy: 1.0000\n",
            "Epoch 9/150\n",
            "1/1 [==============================] - 0s 110ms/step - loss: 0.2488 - accuracy: 1.0000 - val_loss: 0.4118 - val_accuracy: 0.7097\n",
            "Epoch 10/150\n",
            "1/1 [==============================] - 0s 113ms/step - loss: 0.3010 - accuracy: 0.9024 - val_loss: 0.2525 - val_accuracy: 1.0000\n",
            "Epoch 11/150\n",
            "1/1 [==============================] - 0s 108ms/step - loss: 0.1887 - accuracy: 1.0000 - val_loss: 0.1557 - val_accuracy: 1.0000\n",
            "Epoch 12/150\n",
            "1/1 [==============================] - 0s 103ms/step - loss: 0.1764 - accuracy: 1.0000 - val_loss: 0.0925 - val_accuracy: 1.0000\n",
            "Epoch 13/150\n",
            "1/1 [==============================] - 0s 106ms/step - loss: 0.0857 - accuracy: 1.0000 - val_loss: 0.0731 - val_accuracy: 1.0000\n",
            "Epoch 14/150\n",
            "1/1 [==============================] - 0s 105ms/step - loss: 0.0469 - accuracy: 1.0000 - val_loss: 0.0473 - val_accuracy: 1.0000\n",
            "Epoch 15/150\n",
            "1/1 [==============================] - 0s 106ms/step - loss: 0.0270 - accuracy: 1.0000 - val_loss: 0.0242 - val_accuracy: 1.0000\n",
            "Epoch 16/150\n",
            "1/1 [==============================] - 0s 105ms/step - loss: 0.0182 - accuracy: 1.0000 - val_loss: 0.0118 - val_accuracy: 1.0000\n",
            "Epoch 17/150\n",
            "1/1 [==============================] - 0s 110ms/step - loss: 0.0074 - accuracy: 1.0000 - val_loss: 0.0070 - val_accuracy: 1.0000\n",
            "Epoch 18/150\n",
            "1/1 [==============================] - 0s 106ms/step - loss: 0.0034 - accuracy: 1.0000 - val_loss: 0.0050 - val_accuracy: 1.0000\n",
            "Epoch 19/150\n",
            "1/1 [==============================] - 0s 147ms/step - loss: 0.0020 - accuracy: 1.0000 - val_loss: 0.0032 - val_accuracy: 1.0000\n",
            "Epoch 20/150\n",
            "1/1 [==============================] - 0s 104ms/step - loss: 0.0012 - accuracy: 1.0000 - val_loss: 0.0019 - val_accuracy: 1.0000\n",
            "Epoch 21/150\n",
            "1/1 [==============================] - 0s 107ms/step - loss: 7.0641e-04 - accuracy: 1.0000 - val_loss: 0.0010 - val_accuracy: 1.0000\n",
            "Epoch 22/150\n",
            "1/1 [==============================] - 0s 102ms/step - loss: 3.9576e-04 - accuracy: 1.0000 - val_loss: 5.5498e-04 - val_accuracy: 1.0000\n",
            "Epoch 23/150\n",
            "1/1 [==============================] - 0s 105ms/step - loss: 2.4277e-04 - accuracy: 1.0000 - val_loss: 3.3714e-04 - val_accuracy: 1.0000\n",
            "Epoch 24/150\n",
            "1/1 [==============================] - 0s 109ms/step - loss: 1.8358e-04 - accuracy: 1.0000 - val_loss: 2.3517e-04 - val_accuracy: 1.0000\n",
            "Epoch 25/150\n",
            "1/1 [==============================] - 0s 106ms/step - loss: 1.5609e-04 - accuracy: 1.0000 - val_loss: 1.6720e-04 - val_accuracy: 1.0000\n",
            "Epoch 26/150\n",
            "1/1 [==============================] - 0s 107ms/step - loss: 1.2479e-04 - accuracy: 1.0000 - val_loss: 1.1262e-04 - val_accuracy: 1.0000\n",
            "Epoch 27/150\n",
            "1/1 [==============================] - 0s 110ms/step - loss: 8.6439e-05 - accuracy: 1.0000 - val_loss: 7.4324e-05 - val_accuracy: 1.0000\n",
            "Epoch 28/150\n",
            "1/1 [==============================] - 0s 102ms/step - loss: 5.3390e-05 - accuracy: 1.0000 - val_loss: 5.2559e-05 - val_accuracy: 1.0000\n",
            "Epoch 29/150\n",
            "1/1 [==============================] - 0s 102ms/step - loss: 3.1939e-05 - accuracy: 1.0000 - val_loss: 4.2512e-05 - val_accuracy: 1.0000\n",
            "Epoch 30/150\n",
            "1/1 [==============================] - 0s 105ms/step - loss: 2.0220e-05 - accuracy: 1.0000 - val_loss: 3.9166e-05 - val_accuracy: 1.0000\n",
            "Epoch 31/150\n",
            "1/1 [==============================] - 0s 105ms/step - loss: 1.4462e-05 - accuracy: 1.0000 - val_loss: 3.9268e-05 - val_accuracy: 1.0000\n",
            "Epoch 32/150\n",
            "1/1 [==============================] - 0s 103ms/step - loss: 1.1848e-05 - accuracy: 1.0000 - val_loss: 4.0790e-05 - val_accuracy: 1.0000\n",
            "Epoch 33/150\n",
            "1/1 [==============================] - 0s 105ms/step - loss: 1.0734e-05 - accuracy: 1.0000 - val_loss: 4.2504e-05 - val_accuracy: 1.0000\n",
            "Epoch 34/150\n",
            "1/1 [==============================] - 0s 105ms/step - loss: 1.0266e-05 - accuracy: 1.0000 - val_loss: 4.3542e-05 - val_accuracy: 1.0000\n",
            "Epoch 35/150\n",
            "1/1 [==============================] - 0s 104ms/step - loss: 9.9406e-06 - accuracy: 1.0000 - val_loss: 4.3487e-05 - val_accuracy: 1.0000\n",
            "Epoch 36/150\n",
            "1/1 [==============================] - 0s 106ms/step - loss: 9.5627e-06 - accuracy: 1.0000 - val_loss: 4.2103e-05 - val_accuracy: 1.0000\n",
            "Epoch 37/150\n",
            "1/1 [==============================] - 0s 152ms/step - loss: 8.9928e-06 - accuracy: 1.0000 - val_loss: 3.9489e-05 - val_accuracy: 1.0000\n",
            "Epoch 38/150\n",
            "1/1 [==============================] - 0s 104ms/step - loss: 8.2688e-06 - accuracy: 1.0000 - val_loss: 3.6091e-05 - val_accuracy: 1.0000\n",
            "Epoch 39/150\n",
            "1/1 [==============================] - 0s 111ms/step - loss: 7.4228e-06 - accuracy: 1.0000 - val_loss: 3.2154e-05 - val_accuracy: 1.0000\n",
            "Epoch 40/150\n",
            "1/1 [==============================] - 0s 104ms/step - loss: 6.5302e-06 - accuracy: 1.0000 - val_loss: 2.8037e-05 - val_accuracy: 1.0000\n",
            "Epoch 41/150\n",
            "1/1 [==============================] - 0s 103ms/step - loss: 5.6434e-06 - accuracy: 1.0000 - val_loss: 2.4054e-05 - val_accuracy: 1.0000\n",
            "Epoch 42/150\n",
            "1/1 [==============================] - 0s 104ms/step - loss: 4.8061e-06 - accuracy: 1.0000 - val_loss: 2.0375e-05 - val_accuracy: 1.0000\n",
            "Epoch 43/150\n",
            "1/1 [==============================] - 0s 103ms/step - loss: 4.0560e-06 - accuracy: 1.0000 - val_loss: 1.7115e-05 - val_accuracy: 1.0000\n",
            "Epoch 44/150\n",
            "1/1 [==============================] - 0s 106ms/step - loss: 3.4047e-06 - accuracy: 1.0000 - val_loss: 1.4308e-05 - val_accuracy: 1.0000\n",
            "Epoch 45/150\n",
            "1/1 [==============================] - 0s 115ms/step - loss: 2.8465e-06 - accuracy: 1.0000 - val_loss: 1.1947e-05 - val_accuracy: 1.0000\n",
            "Epoch 46/150\n",
            "1/1 [==============================] - 0s 114ms/step - loss: 2.3813e-06 - accuracy: 1.0000 - val_loss: 9.9746e-06 - val_accuracy: 1.0000\n",
            "Epoch 47/150\n",
            "1/1 [==============================] - 0s 105ms/step - loss: 2.0004e-06 - accuracy: 1.0000 - val_loss: 8.3712e-06 - val_accuracy: 1.0000\n",
            "Epoch 48/150\n",
            "1/1 [==============================] - 0s 106ms/step - loss: 1.6980e-06 - accuracy: 1.0000 - val_loss: 7.0561e-06 - val_accuracy: 1.0000\n",
            "Epoch 49/150\n",
            "1/1 [==============================] - 0s 101ms/step - loss: 1.4392e-06 - accuracy: 1.0000 - val_loss: 5.9756e-06 - val_accuracy: 1.0000\n",
            "Epoch 50/150\n",
            "1/1 [==============================] - 0s 105ms/step - loss: 1.2473e-06 - accuracy: 1.0000 - val_loss: 5.1028e-06 - val_accuracy: 1.0000\n",
            "Epoch 51/150\n",
            "1/1 [==============================] - 0s 102ms/step - loss: 1.0845e-06 - accuracy: 1.0000 - val_loss: 4.3953e-06 - val_accuracy: 1.0000\n",
            "Epoch 52/150\n",
            "1/1 [==============================] - 0s 104ms/step - loss: 9.5367e-07 - accuracy: 1.0000 - val_loss: 3.7954e-06 - val_accuracy: 1.0000\n",
            "Epoch 53/150\n",
            "1/1 [==============================] - 0s 103ms/step - loss: 8.5191e-07 - accuracy: 1.0000 - val_loss: 3.3224e-06 - val_accuracy: 1.0000\n",
            "Epoch 54/150\n",
            "1/1 [==============================] - 0s 102ms/step - loss: 7.6759e-07 - accuracy: 1.0000 - val_loss: 2.9379e-06 - val_accuracy: 1.0000\n",
            "Epoch 55/150\n",
            "1/1 [==============================] - 0s 111ms/step - loss: 7.0944e-07 - accuracy: 1.0000 - val_loss: 2.6187e-06 - val_accuracy: 1.0000\n",
            "Epoch 56/150\n",
            "1/1 [==============================] - 0s 103ms/step - loss: 6.5129e-07 - accuracy: 1.0000 - val_loss: 2.3649e-06 - val_accuracy: 1.0000\n",
            "Epoch 57/150\n",
            "1/1 [==============================] - 0s 106ms/step - loss: 6.1931e-07 - accuracy: 1.0000 - val_loss: 2.1496e-06 - val_accuracy: 1.0000\n",
            "Epoch 58/150\n",
            "1/1 [==============================] - 0s 105ms/step - loss: 5.7569e-07 - accuracy: 1.0000 - val_loss: 1.9612e-06 - val_accuracy: 1.0000\n",
            "Epoch 59/150\n",
            "1/1 [==============================] - 0s 106ms/step - loss: 5.6406e-07 - accuracy: 1.0000 - val_loss: 1.8112e-06 - val_accuracy: 1.0000\n",
            "Epoch 60/150\n",
            "1/1 [==============================] - 0s 102ms/step - loss: 5.4662e-07 - accuracy: 1.0000 - val_loss: 1.6805e-06 - val_accuracy: 1.0000\n",
            "Epoch 61/150\n",
            "1/1 [==============================] - 0s 107ms/step - loss: 5.2336e-07 - accuracy: 1.0000 - val_loss: 1.5766e-06 - val_accuracy: 1.0000\n",
            "Epoch 62/150\n",
            "1/1 [==============================] - 0s 113ms/step - loss: 5.1463e-07 - accuracy: 1.0000 - val_loss: 1.4843e-06 - val_accuracy: 1.0000\n",
            "Epoch 63/150\n",
            "1/1 [==============================] - 0s 108ms/step - loss: 5.0882e-07 - accuracy: 1.0000 - val_loss: 1.4036e-06 - val_accuracy: 1.0000\n",
            "Epoch 64/150\n",
            "1/1 [==============================] - 0s 106ms/step - loss: 4.9428e-07 - accuracy: 1.0000 - val_loss: 1.3421e-06 - val_accuracy: 1.0000\n",
            "Epoch 65/150\n",
            "1/1 [==============================] - 0s 102ms/step - loss: 4.9137e-07 - accuracy: 1.0000 - val_loss: 1.2882e-06 - val_accuracy: 1.0000\n",
            "Epoch 66/150\n",
            "1/1 [==============================] - 0s 104ms/step - loss: 4.8847e-07 - accuracy: 1.0000 - val_loss: 1.2382e-06 - val_accuracy: 1.0000\n",
            "Epoch 67/150\n",
            "1/1 [==============================] - 0s 107ms/step - loss: 4.8556e-07 - accuracy: 1.0000 - val_loss: 1.1921e-06 - val_accuracy: 1.0000\n",
            "Epoch 68/150\n",
            "1/1 [==============================] - 0s 106ms/step - loss: 4.7684e-07 - accuracy: 1.0000 - val_loss: 1.1613e-06 - val_accuracy: 1.0000\n",
            "Epoch 69/150\n",
            "1/1 [==============================] - 0s 102ms/step - loss: 4.7393e-07 - accuracy: 1.0000 - val_loss: 1.1267e-06 - val_accuracy: 1.0000\n",
            "Epoch 70/150\n",
            "1/1 [==============================] - 0s 104ms/step - loss: 4.6811e-07 - accuracy: 1.0000 - val_loss: 1.1075e-06 - val_accuracy: 1.0000\n",
            "Epoch 71/150\n",
            "1/1 [==============================] - 0s 106ms/step - loss: 4.6521e-07 - accuracy: 1.0000 - val_loss: 1.0806e-06 - val_accuracy: 1.0000\n",
            "Epoch 72/150\n",
            "1/1 [==============================] - 0s 107ms/step - loss: 4.6230e-07 - accuracy: 1.0000 - val_loss: 1.0613e-06 - val_accuracy: 1.0000\n",
            "Epoch 73/150\n",
            "1/1 [==============================] - 0s 106ms/step - loss: 4.6521e-07 - accuracy: 1.0000 - val_loss: 1.0421e-06 - val_accuracy: 1.0000\n",
            "Epoch 74/150\n",
            "1/1 [==============================] - 0s 106ms/step - loss: 4.5648e-07 - accuracy: 1.0000 - val_loss: 1.0344e-06 - val_accuracy: 1.0000\n",
            "Epoch 75/150\n",
            "1/1 [==============================] - 0s 109ms/step - loss: 4.5067e-07 - accuracy: 1.0000 - val_loss: 1.0190e-06 - val_accuracy: 1.0000\n",
            "Epoch 76/150\n",
            "1/1 [==============================] - 0s 103ms/step - loss: 4.4485e-07 - accuracy: 1.0000 - val_loss: 1.0114e-06 - val_accuracy: 1.0000\n",
            "Epoch 77/150\n",
            "1/1 [==============================] - 0s 107ms/step - loss: 4.4485e-07 - accuracy: 1.0000 - val_loss: 1.0114e-06 - val_accuracy: 1.0000\n",
            "Epoch 78/150\n",
            "1/1 [==============================] - 0s 104ms/step - loss: 4.3613e-07 - accuracy: 1.0000 - val_loss: 9.9982e-07 - val_accuracy: 1.0000\n",
            "Epoch 79/150\n",
            "1/1 [==============================] - 0s 107ms/step - loss: 4.3322e-07 - accuracy: 1.0000 - val_loss: 9.9982e-07 - val_accuracy: 1.0000\n",
            "Epoch 80/150\n",
            "1/1 [==============================] - 0s 108ms/step - loss: 4.3322e-07 - accuracy: 1.0000 - val_loss: 9.9212e-07 - val_accuracy: 1.0000\n",
            "Epoch 81/150\n",
            "1/1 [==============================] - 0s 107ms/step - loss: 4.3032e-07 - accuracy: 1.0000 - val_loss: 9.9212e-07 - val_accuracy: 1.0000\n",
            "Epoch 82/150\n",
            "1/1 [==============================] - 0s 110ms/step - loss: 4.2450e-07 - accuracy: 1.0000 - val_loss: 9.9212e-07 - val_accuracy: 1.0000\n",
            "Epoch 83/150\n",
            "1/1 [==============================] - 0s 107ms/step - loss: 4.2159e-07 - accuracy: 1.0000 - val_loss: 9.9597e-07 - val_accuracy: 1.0000\n",
            "Epoch 84/150\n",
            "1/1 [==============================] - 0s 110ms/step - loss: 4.1869e-07 - accuracy: 1.0000 - val_loss: 9.9212e-07 - val_accuracy: 1.0000\n",
            "Epoch 85/150\n",
            "1/1 [==============================] - 0s 102ms/step - loss: 4.1578e-07 - accuracy: 1.0000 - val_loss: 9.9982e-07 - val_accuracy: 1.0000\n",
            "Epoch 86/150\n",
            "1/1 [==============================] - 0s 103ms/step - loss: 4.1287e-07 - accuracy: 1.0000 - val_loss: 9.9597e-07 - val_accuracy: 1.0000\n",
            "Epoch 87/150\n",
            "1/1 [==============================] - 0s 106ms/step - loss: 4.0996e-07 - accuracy: 1.0000 - val_loss: 1.0037e-06 - val_accuracy: 1.0000\n",
            "Epoch 88/150\n",
            "1/1 [==============================] - 0s 108ms/step - loss: 4.0706e-07 - accuracy: 1.0000 - val_loss: 1.0075e-06 - val_accuracy: 1.0000\n",
            "Epoch 89/150\n",
            "1/1 [==============================] - 0s 104ms/step - loss: 4.0415e-07 - accuracy: 1.0000 - val_loss: 1.0114e-06 - val_accuracy: 1.0000\n",
            "Epoch 90/150\n",
            "1/1 [==============================] - 0s 102ms/step - loss: 4.0124e-07 - accuracy: 1.0000 - val_loss: 1.0152e-06 - val_accuracy: 1.0000\n",
            "Epoch 91/150\n",
            "1/1 [==============================] - 0s 113ms/step - loss: 3.9252e-07 - accuracy: 1.0000 - val_loss: 1.0190e-06 - val_accuracy: 1.0000\n",
            "Epoch 92/150\n",
            "1/1 [==============================] - 0s 104ms/step - loss: 3.8961e-07 - accuracy: 1.0000 - val_loss: 1.0229e-06 - val_accuracy: 1.0000\n",
            "Epoch 93/150\n",
            "1/1 [==============================] - 0s 104ms/step - loss: 3.8380e-07 - accuracy: 1.0000 - val_loss: 1.0229e-06 - val_accuracy: 1.0000\n",
            "Epoch 94/150\n",
            "1/1 [==============================] - 0s 108ms/step - loss: 3.8089e-07 - accuracy: 1.0000 - val_loss: 1.0306e-06 - val_accuracy: 1.0000\n",
            "Epoch 95/150\n",
            "1/1 [==============================] - 0s 104ms/step - loss: 3.8380e-07 - accuracy: 1.0000 - val_loss: 1.0383e-06 - val_accuracy: 1.0000\n",
            "Epoch 96/150\n",
            "1/1 [==============================] - 0s 108ms/step - loss: 3.8380e-07 - accuracy: 1.0000 - val_loss: 1.0421e-06 - val_accuracy: 1.0000\n",
            "Epoch 97/150\n",
            "1/1 [==============================] - 0s 105ms/step - loss: 3.8380e-07 - accuracy: 1.0000 - val_loss: 1.0498e-06 - val_accuracy: 1.0000\n",
            "Epoch 98/150\n",
            "1/1 [==============================] - 0s 112ms/step - loss: 3.8089e-07 - accuracy: 1.0000 - val_loss: 1.0575e-06 - val_accuracy: 1.0000\n",
            "Epoch 99/150\n",
            "1/1 [==============================] - 0s 109ms/step - loss: 3.7798e-07 - accuracy: 1.0000 - val_loss: 1.0537e-06 - val_accuracy: 1.0000\n",
            "Epoch 100/150\n",
            "1/1 [==============================] - 0s 113ms/step - loss: 3.7507e-07 - accuracy: 1.0000 - val_loss: 1.0652e-06 - val_accuracy: 1.0000\n",
            "Epoch 101/150\n",
            "1/1 [==============================] - 0s 103ms/step - loss: 3.7216e-07 - accuracy: 1.0000 - val_loss: 1.0690e-06 - val_accuracy: 1.0000\n",
            "Epoch 102/150\n",
            "1/1 [==============================] - 0s 104ms/step - loss: 3.6926e-07 - accuracy: 1.0000 - val_loss: 1.0767e-06 - val_accuracy: 1.0000\n",
            "Epoch 103/150\n",
            "1/1 [==============================] - 0s 103ms/step - loss: 3.6635e-07 - accuracy: 1.0000 - val_loss: 1.0806e-06 - val_accuracy: 1.0000\n",
            "Epoch 104/150\n",
            "1/1 [==============================] - 0s 105ms/step - loss: 3.6635e-07 - accuracy: 1.0000 - val_loss: 1.0883e-06 - val_accuracy: 1.0000\n",
            "Epoch 105/150\n",
            "1/1 [==============================] - 0s 107ms/step - loss: 3.6635e-07 - accuracy: 1.0000 - val_loss: 1.0921e-06 - val_accuracy: 1.0000\n",
            "Epoch 106/150\n",
            "1/1 [==============================] - 0s 103ms/step - loss: 3.6344e-07 - accuracy: 1.0000 - val_loss: 1.0921e-06 - val_accuracy: 1.0000\n",
            "Epoch 107/150\n",
            "1/1 [==============================] - 0s 103ms/step - loss: 3.6635e-07 - accuracy: 1.0000 - val_loss: 1.0960e-06 - val_accuracy: 1.0000\n",
            "Epoch 108/150\n",
            "1/1 [==============================] - 0s 109ms/step - loss: 3.6053e-07 - accuracy: 1.0000 - val_loss: 1.0998e-06 - val_accuracy: 1.0000\n",
            "Epoch 109/150\n",
            "1/1 [==============================] - 0s 111ms/step - loss: 3.6053e-07 - accuracy: 1.0000 - val_loss: 1.0998e-06 - val_accuracy: 1.0000\n",
            "Epoch 110/150\n",
            "1/1 [==============================] - 0s 102ms/step - loss: 3.5763e-07 - accuracy: 1.0000 - val_loss: 1.1036e-06 - val_accuracy: 1.0000\n",
            "Epoch 111/150\n",
            "1/1 [==============================] - 0s 107ms/step - loss: 3.5763e-07 - accuracy: 1.0000 - val_loss: 1.1036e-06 - val_accuracy: 1.0000\n",
            "Epoch 112/150\n",
            "1/1 [==============================] - 0s 102ms/step - loss: 3.5472e-07 - accuracy: 1.0000 - val_loss: 1.1075e-06 - val_accuracy: 1.0000\n",
            "Epoch 113/150\n",
            "1/1 [==============================] - 0s 107ms/step - loss: 3.5472e-07 - accuracy: 1.0000 - val_loss: 1.1075e-06 - val_accuracy: 1.0000\n",
            "Epoch 114/150\n",
            "1/1 [==============================] - 0s 108ms/step - loss: 3.5181e-07 - accuracy: 1.0000 - val_loss: 1.1113e-06 - val_accuracy: 1.0000\n",
            "Epoch 115/150\n",
            "1/1 [==============================] - 0s 110ms/step - loss: 3.5181e-07 - accuracy: 1.0000 - val_loss: 1.1113e-06 - val_accuracy: 1.0000\n",
            "Epoch 116/150\n",
            "1/1 [==============================] - 0s 109ms/step - loss: 3.5181e-07 - accuracy: 1.0000 - val_loss: 1.1152e-06 - val_accuracy: 1.0000\n",
            "Epoch 117/150\n",
            "1/1 [==============================] - 0s 109ms/step - loss: 3.4600e-07 - accuracy: 1.0000 - val_loss: 1.1152e-06 - val_accuracy: 1.0000\n",
            "Epoch 118/150\n",
            "1/1 [==============================] - 0s 112ms/step - loss: 3.4600e-07 - accuracy: 1.0000 - val_loss: 1.1113e-06 - val_accuracy: 1.0000\n",
            "Epoch 119/150\n",
            "1/1 [==============================] - 0s 103ms/step - loss: 3.4600e-07 - accuracy: 1.0000 - val_loss: 1.1152e-06 - val_accuracy: 1.0000\n",
            "Epoch 120/150\n",
            "1/1 [==============================] - 0s 107ms/step - loss: 3.4018e-07 - accuracy: 1.0000 - val_loss: 1.1152e-06 - val_accuracy: 1.0000\n",
            "Epoch 121/150\n",
            "1/1 [==============================] - 0s 108ms/step - loss: 3.4018e-07 - accuracy: 1.0000 - val_loss: 1.1152e-06 - val_accuracy: 1.0000\n",
            "Epoch 122/150\n",
            "1/1 [==============================] - 0s 114ms/step - loss: 3.4018e-07 - accuracy: 1.0000 - val_loss: 1.1152e-06 - val_accuracy: 1.0000\n",
            "Epoch 123/150\n",
            "1/1 [==============================] - 0s 105ms/step - loss: 3.3727e-07 - accuracy: 1.0000 - val_loss: 1.1152e-06 - val_accuracy: 1.0000\n",
            "Epoch 124/150\n",
            "1/1 [==============================] - 0s 102ms/step - loss: 3.3727e-07 - accuracy: 1.0000 - val_loss: 1.1152e-06 - val_accuracy: 1.0000\n",
            "Epoch 125/150\n",
            "1/1 [==============================] - 0s 104ms/step - loss: 3.3727e-07 - accuracy: 1.0000 - val_loss: 1.1152e-06 - val_accuracy: 1.0000\n",
            "Epoch 126/150\n",
            "1/1 [==============================] - 0s 105ms/step - loss: 3.3727e-07 - accuracy: 1.0000 - val_loss: 1.1113e-06 - val_accuracy: 1.0000\n",
            "Epoch 127/150\n",
            "1/1 [==============================] - 0s 110ms/step - loss: 3.3437e-07 - accuracy: 1.0000 - val_loss: 1.1113e-06 - val_accuracy: 1.0000\n",
            "Epoch 128/150\n",
            "1/1 [==============================] - 0s 107ms/step - loss: 3.3437e-07 - accuracy: 1.0000 - val_loss: 1.1113e-06 - val_accuracy: 1.0000\n",
            "Epoch 129/150\n",
            "1/1 [==============================] - 0s 107ms/step - loss: 3.3437e-07 - accuracy: 1.0000 - val_loss: 1.1113e-06 - val_accuracy: 1.0000\n",
            "Epoch 130/150\n",
            "1/1 [==============================] - 0s 107ms/step - loss: 3.3437e-07 - accuracy: 1.0000 - val_loss: 1.1075e-06 - val_accuracy: 1.0000\n",
            "Epoch 131/150\n",
            "1/1 [==============================] - 0s 105ms/step - loss: 3.3437e-07 - accuracy: 1.0000 - val_loss: 1.1075e-06 - val_accuracy: 1.0000\n",
            "Epoch 132/150\n",
            "1/1 [==============================] - 0s 110ms/step - loss: 3.3146e-07 - accuracy: 1.0000 - val_loss: 1.1036e-06 - val_accuracy: 1.0000\n",
            "Epoch 133/150\n",
            "1/1 [==============================] - 0s 104ms/step - loss: 3.3146e-07 - accuracy: 1.0000 - val_loss: 1.0998e-06 - val_accuracy: 1.0000\n",
            "Epoch 134/150\n",
            "1/1 [==============================] - 0s 99ms/step - loss: 3.3146e-07 - accuracy: 1.0000 - val_loss: 1.0998e-06 - val_accuracy: 1.0000\n",
            "Epoch 135/150\n",
            "1/1 [==============================] - 0s 105ms/step - loss: 3.3146e-07 - accuracy: 1.0000 - val_loss: 1.0998e-06 - val_accuracy: 1.0000\n",
            "Epoch 136/150\n",
            "1/1 [==============================] - 0s 117ms/step - loss: 3.3146e-07 - accuracy: 1.0000 - val_loss: 1.0959e-06 - val_accuracy: 1.0000\n",
            "Epoch 137/150\n",
            "1/1 [==============================] - 0s 107ms/step - loss: 3.2564e-07 - accuracy: 1.0000 - val_loss: 1.0959e-06 - val_accuracy: 1.0000\n",
            "Epoch 138/150\n",
            "1/1 [==============================] - 0s 103ms/step - loss: 3.2274e-07 - accuracy: 1.0000 - val_loss: 1.0921e-06 - val_accuracy: 1.0000\n",
            "Epoch 139/150\n",
            "1/1 [==============================] - 0s 106ms/step - loss: 3.2274e-07 - accuracy: 1.0000 - val_loss: 1.0883e-06 - val_accuracy: 1.0000\n",
            "Epoch 140/150\n",
            "1/1 [==============================] - 0s 102ms/step - loss: 3.2274e-07 - accuracy: 1.0000 - val_loss: 1.0883e-06 - val_accuracy: 1.0000\n",
            "Epoch 141/150\n",
            "1/1 [==============================] - 0s 103ms/step - loss: 3.2274e-07 - accuracy: 1.0000 - val_loss: 1.0883e-06 - val_accuracy: 1.0000\n",
            "Epoch 142/150\n",
            "1/1 [==============================] - 0s 100ms/step - loss: 3.2274e-07 - accuracy: 1.0000 - val_loss: 1.0844e-06 - val_accuracy: 1.0000\n",
            "Epoch 143/150\n",
            "1/1 [==============================] - 0s 105ms/step - loss: 3.2274e-07 - accuracy: 1.0000 - val_loss: 1.0806e-06 - val_accuracy: 1.0000\n",
            "Epoch 144/150\n",
            "1/1 [==============================] - 0s 102ms/step - loss: 3.1692e-07 - accuracy: 1.0000 - val_loss: 1.0767e-06 - val_accuracy: 1.0000\n",
            "Epoch 145/150\n",
            "1/1 [==============================] - 0s 109ms/step - loss: 3.1692e-07 - accuracy: 1.0000 - val_loss: 1.0729e-06 - val_accuracy: 1.0000\n",
            "Epoch 146/150\n",
            "1/1 [==============================] - 0s 103ms/step - loss: 3.1692e-07 - accuracy: 1.0000 - val_loss: 1.0652e-06 - val_accuracy: 1.0000\n",
            "Epoch 147/150\n",
            "1/1 [==============================] - 0s 103ms/step - loss: 3.1692e-07 - accuracy: 1.0000 - val_loss: 1.0575e-06 - val_accuracy: 1.0000\n",
            "Epoch 148/150\n",
            "1/1 [==============================] - 0s 108ms/step - loss: 3.1692e-07 - accuracy: 1.0000 - val_loss: 1.0575e-06 - val_accuracy: 1.0000\n",
            "Epoch 149/150\n",
            "1/1 [==============================] - 0s 104ms/step - loss: 3.1692e-07 - accuracy: 1.0000 - val_loss: 1.0537e-06 - val_accuracy: 1.0000\n",
            "Epoch 150/150\n",
            "1/1 [==============================] - 0s 100ms/step - loss: 3.1692e-07 - accuracy: 1.0000 - val_loss: 1.0498e-06 - val_accuracy: 1.0000\n"
          ]
        }
      ]
    },
    {
      "cell_type": "markdown",
      "source": [
        "Lưu model"
      ],
      "metadata": {
        "id": "ca_l0CKuDdeh"
      }
    },
    {
      "cell_type": "code",
      "source": [
        "model.save('CNN_Self_Face_Recognition.h5')"
      ],
      "metadata": {
        "id": "7WbQ08xalX0m"
      },
      "execution_count": null,
      "outputs": []
    },
    {
      "cell_type": "markdown",
      "source": [
        "Đánh giá độ chính xác"
      ],
      "metadata": {
        "id": "l00XWsprDfbq"
      }
    },
    {
      "cell_type": "code",
      "source": [
        "score = model.evaluate(x_test,y_test,verbose=0)\n",
        "print ('loss = ',score[0])\n",
        "print ('accuracy = ',score[1])"
      ],
      "metadata": {
        "colab": {
          "base_uri": "https://localhost:8080/"
        },
        "id": "bVG3sp2SlaaD",
        "outputId": "0aaf9720-dc78-4745-ffe0-c2600f5609a7"
      },
      "execution_count": null,
      "outputs": [
        {
          "output_type": "stream",
          "name": "stdout",
          "text": [
            "loss =  1.04980483683903e-06\n",
            "accuracy =  1.0\n"
          ]
        }
      ]
    },
    {
      "cell_type": "markdown",
      "source": [
        "Chạy dự đoán kết quả"
      ],
      "metadata": {
        "id": "iYiAJcq0DlMk"
      }
    },
    {
      "cell_type": "code",
      "source": [
        "i = randint(0,len(test_list)-1)\n",
        "print ('picture ',i)\n",
        "predict_test = test_list[i]\n",
        "image = load_img(predict_test,target_size=(150,150))\n",
        "array = img_to_array(image)\n",
        "plt.imshow(image)\n",
        "# Sample Predict\n",
        "sample = np.array([array])\n",
        "predictions = np.argmax(model.predict(sample), axis=-1)\n",
        "print ('picture ',i)\n",
        "print(\"predictions number:\", predictions)\n",
        "print(\"predictions:\", y_label[int(predictions)])"
      ],
      "metadata": {
        "colab": {
          "base_uri": "https://localhost:8080/",
          "height": 338
        },
        "id": "5S9m4f-TldPD",
        "outputId": "7d815610-61f8-45b4-d177-72a0449cecec"
      },
      "execution_count": null,
      "outputs": [
        {
          "output_type": "stream",
          "name": "stdout",
          "text": [
            "picture  17\n",
            "picture  17\n",
            "predictions number: [0]\n",
            "predictions: khong phai Huy\n"
          ]
        },
        {
          "output_type": "display_data",
          "data": {
            "text/plain": [
              "<Figure size 432x288 with 1 Axes>"
            ],
            "image/png": "[encoded data removed]"
          },
          "metadata": {
            "needs_background": "light"
          }
        }
      ]
    },
    {
      "cell_type": "markdown",
      "source": [
        "Vễ độ thị độ chính xác"
      ],
      "metadata": {
        "id": "9Q3AKqTdDuvk"
      }
    },
    {
      "cell_type": "code",
      "source": [
        "# Graphs of accuracy\n",
        "plt.figure(figsize=(8,5))\n",
        "plt.grid(True)\n",
        "#plt.gca().set_ylim(0,1)\n",
        "plt.plot(history.history['accuracy'])\n",
        "plt.plot(history.history['val_accuracy'])\n",
        "plt.title('model accuracy')\n",
        "plt.ylabel('accuracy')\n",
        "plt.xlabel('epoch')\n",
        "plt.legend(['train','validation'],loc='lower right')\n",
        "plt.show()"
      ],
      "metadata": {
        "colab": {
          "base_uri": "https://localhost:8080/",
          "height": 350
        },
        "id": "rgd1oPu3lhCH",
        "outputId": "cbeba343-6b51-4e45-e758-5fed0a4f0147"
      },
      "execution_count": null,
      "outputs": [
        {
          "output_type": "display_data",
          "data": {
            "text/plain": [
              "<Figure size 576x360 with 1 Axes>"
            ],
            "image/png": "[encoded data removed]"
          },
          "metadata": {
            "needs_background": "light"
          }
        }
      ]
    }
  ]
}