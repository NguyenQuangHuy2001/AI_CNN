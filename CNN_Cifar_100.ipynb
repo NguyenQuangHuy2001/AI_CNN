{
  "cells": [
    {
      "cell_type": "markdown",
      "metadata": {
        "id": "view-in-github",
        "colab_type": "text"
      },
      "source": [
        "<a href=\"https://colab.research.google.com/github/NguyenQuangHuy2001/AI_CNN/blob/main/CNN_Cifar_100.ipynb\" target=\"_parent\"><img src=\"https://colab.research.google.com/assets/colab-badge.svg\" alt=\"Open In Colab\"/></a>"
      ]
    },
    {
      "cell_type": "markdown",
      "source": [
        "\n",
        "Khai báo thư viện"
      ],
      "metadata": {
        "id": "WhFgKt2IBJ7Z"
      }
    },
    {
      "cell_type": "code",
      "execution_count": null,
      "metadata": {
        "id": "u6_w6bkTkrpr"
      },
      "outputs": [],
      "source": [
        "from keras.models import Sequential\n",
        "from keras.layers import Dense, Flatten, Dropout, Conv2D, MaxPool2D\n",
        "from keras.datasets import cifar100\n",
        "from keras.utils import np_utils\n",
        "from tensorflow.keras.optimizers import Adam, SGD, RMSprop\n",
        "import pandas as pd\n",
        "import numpy as np\n",
        "import matplotlib.pyplot as plt\n",
        "import cv2\n",
        "from random import randint\n",
        "from google.colab.patches import cv2_imshow\n",
        "from keras.layers.core import Dense,Activation,Dropout,Flatten"
      ]
    },
    {
      "cell_type": "markdown",
      "source": [
        "Load dữ liệu"
      ],
      "metadata": {
        "id": "jIWnWK_fBfkd"
      }
    },
    {
      "cell_type": "code",
      "execution_count": null,
      "metadata": {
        "id": "4eqxlXzZlJAC",
        "colab": {
          "base_uri": "https://localhost:8080/"
        },
        "outputId": "21b5e1bf-bb42-4bb5-863c-f201d39096d2"
      },
      "outputs": [
        {
          "output_type": "stream",
          "name": "stdout",
          "text": [
            "Downloading data from https://www.cs.toronto.edu/~kriz/cifar-100-python.tar.gz\n",
            "169009152/169001437 [==============================] - 6s 0us/step\n",
            "169017344/169001437 [==============================] - 6s 0us/step\n"
          ]
        }
      ],
      "source": [
        "#load data\n",
        "(x_train, y_train), (x_test, y_test) = cifar100.load_data()"
      ]
    },
    {
      "cell_type": "markdown",
      "source": [
        "Xử lý dữ liệu"
      ],
      "metadata": {
        "id": "Oi4ZrsSkCNZw"
      }
    },
    {
      "cell_type": "code",
      "execution_count": null,
      "metadata": {
        "id": "WLCynIxEk3df"
      },
      "outputs": [],
      "source": [
        "(x_train,y_train),(x_test,y_test) = cifar100.load_data()\n",
        "\n",
        "x_test_original = x_test;\n",
        "y_test_original = y_test;\n",
        "x_train = x_train/255.0\n",
        "x_test = x_test/255.0\n",
        "y_train = np_utils.to_categorical(y_train,100)\n",
        "y_test = np_utils.to_categorical(y_test,100)"
      ]
    },
    {
      "cell_type": "markdown",
      "source": [
        "Tạo model"
      ],
      "metadata": {
        "id": "RhO6ShN4CQyu"
      }
    },
    {
      "cell_type": "code",
      "execution_count": null,
      "metadata": {
        "colab": {
          "base_uri": "https://localhost:8080/"
        },
        "id": "7OHueiAbljli",
        "outputId": "766ad738-c009-4ef5-a21c-01dd00266278"
      },
      "outputs": [
        {
          "output_type": "stream",
          "name": "stdout",
          "text": [
            "Model: \"sequential_1\"\n",
            "_________________________________________________________________\n",
            " Layer (type)                Output Shape              Param #   \n",
            "=================================================================\n",
            " conv2d_3 (Conv2D)           (None, 32, 32, 32)        896       \n",
            "                                                                 \n",
            " activation (Activation)     (None, 32, 32, 32)        0         \n",
            "                                                                 \n",
            " conv2d_4 (Conv2D)           (None, 32, 32, 32)        9248      \n",
            "                                                                 \n",
            " activation_1 (Activation)   (None, 32, 32, 32)        0         \n",
            "                                                                 \n",
            " max_pooling2d_2 (MaxPooling  (None, 16, 16, 32)       0         \n",
            " 2D)                                                             \n",
            "                                                                 \n",
            " dropout (Dropout)           (None, 16, 16, 32)        0         \n",
            "                                                                 \n",
            " conv2d_5 (Conv2D)           (None, 16, 16, 64)        18496     \n",
            "                                                                 \n",
            " activation_2 (Activation)   (None, 16, 16, 64)        0         \n",
            "                                                                 \n",
            " conv2d_6 (Conv2D)           (None, 16, 16, 64)        36928     \n",
            "                                                                 \n",
            " activation_3 (Activation)   (None, 16, 16, 64)        0         \n",
            "                                                                 \n",
            " max_pooling2d_3 (MaxPooling  (None, 8, 8, 64)         0         \n",
            " 2D)                                                             \n",
            "                                                                 \n",
            " dropout_1 (Dropout)         (None, 8, 8, 64)          0         \n",
            "                                                                 \n",
            " flatten_1 (Flatten)         (None, 4096)              0         \n",
            "                                                                 \n",
            " dense_4 (Dense)             (None, 512)               2097664   \n",
            "                                                                 \n",
            " activation_4 (Activation)   (None, 512)               0         \n",
            "                                                                 \n",
            " dropout_2 (Dropout)         (None, 512)               0         \n",
            "                                                                 \n",
            " dense_5 (Dense)             (None, 100)               51300     \n",
            "                                                                 \n",
            "=================================================================\n",
            "Total params: 2,214,532\n",
            "Trainable params: 2,214,532\n",
            "Non-trainable params: 0\n",
            "_________________________________________________________________\n"
          ]
        }
      ],
      "source": [
        "\n",
        "# Create Model(CNN + Dropout)\n",
        "model = Sequential()\n",
        "#BLOCK 1\n",
        "model.add(Conv2D(32,(3,3),padding='same',input_shape=(32,32,3)))\n",
        "model.add(Activation('relu'))\n",
        "model.add(Conv2D(32,(3,3),padding='same'))\n",
        "model.add(Activation('relu'))\n",
        "model.add(MaxPool2D(pool_size=(2,2)))\n",
        "model.add(Dropout(0.25))\n",
        "#BLOCK 2\n",
        "model.add(Conv2D(64,(3,3),padding='same'))\n",
        "model.add(Activation('relu'))\n",
        "model.add(Conv2D(64,(3,3),padding='same'))\n",
        "model.add(Activation('relu'))\n",
        "model.add(MaxPool2D(pool_size=(2,2)))\n",
        "model.add(Dropout(0.25))\n",
        "#BLOCK 3\n",
        "model.add(Flatten())\n",
        "model.add(Dense(512))\n",
        "model.add(Activation('relu'))\n",
        "model.add(Dropout(0.5))\n",
        "model.add(Dense(100,activation='softmax'))\n",
        "\n",
        "model.summary()\n"
      ]
    },
    {
      "cell_type": "code",
      "execution_count": null,
      "metadata": {
        "colab": {
          "base_uri": "https://localhost:8080/"
        },
        "id": "vvvHsDve8d-t",
        "outputId": "4c060a09-6521-47f1-946e-1049d8f0311c"
      },
      "outputs": [
        {
          "output_type": "stream",
          "name": "stdout",
          "text": [
            "Model: \"sequential_3\"\n",
            "_________________________________________________________________\n",
            " Layer (type)                Output Shape              Param #   \n",
            "=================================================================\n",
            " conv2d_10 (Conv2D)          (None, 30, 30, 64)        1792      \n",
            "                                                                 \n",
            " max_pooling2d_8 (MaxPooling  (None, 15, 15, 64)       0         \n",
            " 2D)                                                             \n",
            "                                                                 \n",
            " conv2d_11 (Conv2D)          (None, 13, 13, 64)        36928     \n",
            "                                                                 \n",
            " max_pooling2d_9 (MaxPooling  (None, 6, 6, 64)         0         \n",
            " 2D)                                                             \n",
            "                                                                 \n",
            " flatten_3 (Flatten)         (None, 2304)              0         \n",
            "                                                                 \n",
            " dense_6 (Dense)             (None, 512)               1180160   \n",
            "                                                                 \n",
            " dense_7 (Dense)             (None, 100)               51300     \n",
            "                                                                 \n",
            "=================================================================\n",
            "Total params: 1,270,180\n",
            "Trainable params: 1,270,180\n",
            "Non-trainable params: 0\n",
            "_________________________________________________________________\n"
          ]
        }
      ],
      "source": [
        "'''\n",
        "model =Sequential()\n",
        "model.add(Conv2D(64, (3,3), activation='relu', input_shape=(32, 32, 3))),\n",
        "model.add(MaxPool2D(2, 2)),\n",
        "model.add(Conv2D(64, (3, 3), activation='relu')),\n",
        "model.add(MaxPool2D(2, 2)),\n",
        "model.add(Flatten()),\n",
        "model.add(Dense(512, activation='relu')),\n",
        "model.add(Dense(100, activation='softmax'))\n",
        "model.summary()\n",
        "'''"
      ]
    },
    {
      "cell_type": "code",
      "source": [
        "'''\n",
        "sai \n",
        "model = Sequential()\n",
        "model.add(Conv2D(32, (3, 3), activation='relu', input_shape=(32, 32, 3)))\n",
        "model.add(MaxPool2D((2, 2)))\n",
        "model.add(Conv2D(64, (3, 3), activation='relu'))\n",
        "model.add(MaxPool2D((2, 2)))\n",
        "model.add(Conv2D(64, (3, 3), activation='relu'))\n",
        "model.add(Flatten())\n",
        "model.add(Dense(64, activation='relu'))\n",
        "model.add(Dense(10))\n",
        "model.add(Dense(64, activation='relu'))\n",
        "model.add(Dense(100, activation='softmax'))\n",
        "model.summary()\n",
        "'''"
      ],
      "metadata": {
        "colab": {
          "base_uri": "https://localhost:8080/"
        },
        "id": "HjZ3s4J0bgtq",
        "outputId": "e0581777-065e-4a8f-9f92-4de3a729daaa"
      },
      "execution_count": null,
      "outputs": [
        {
          "output_type": "stream",
          "name": "stdout",
          "text": [
            "Model: \"sequential\"\n",
            "_________________________________________________________________\n",
            " Layer (type)                Output Shape              Param #   \n",
            "=================================================================\n",
            " conv2d (Conv2D)             (None, 30, 30, 32)        896       \n",
            "                                                                 \n",
            " max_pooling2d (MaxPooling2D  (None, 15, 15, 32)       0         \n",
            " )                                                               \n",
            "                                                                 \n",
            " conv2d_1 (Conv2D)           (None, 13, 13, 64)        18496     \n",
            "                                                                 \n",
            " max_pooling2d_1 (MaxPooling  (None, 6, 6, 64)         0         \n",
            " 2D)                                                             \n",
            "                                                                 \n",
            " conv2d_2 (Conv2D)           (None, 4, 4, 64)          36928     \n",
            "                                                                 \n",
            " flatten (Flatten)           (None, 1024)              0         \n",
            "                                                                 \n",
            " dense (Dense)               (None, 64)                65600     \n",
            "                                                                 \n",
            " dense_1 (Dense)             (None, 10)                650       \n",
            "                                                                 \n",
            " dense_2 (Dense)             (None, 64)                704       \n",
            "                                                                 \n",
            " dense_3 (Dense)             (None, 100)               6500      \n",
            "                                                                 \n",
            "=================================================================\n",
            "Total params: 129,774\n",
            "Trainable params: 129,774\n",
            "Non-trainable params: 0\n",
            "_________________________________________________________________\n"
          ]
        }
      ]
    },
    {
      "cell_type": "markdown",
      "source": [
        "Training model"
      ],
      "metadata": {
        "id": "P9LyVJQrCWIr"
      }
    },
    {
      "cell_type": "code",
      "execution_count": null,
      "metadata": {
        "colab": {
          "base_uri": "https://localhost:8080/"
        },
        "id": "HltOx9WjluPx",
        "outputId": "6fd37403-0626-41ae-97d3-ea35f2a9df64"
      },
      "outputs": [
        {
          "output_type": "stream",
          "name": "stdout",
          "text": [
            "Epoch 1/150\n",
            "196/196 [==============================] - 11s 50ms/step - loss: 1.0225 - accuracy: 0.6875 - val_loss: 2.2122 - val_accuracy: 0.4746\n",
            "Epoch 2/150\n",
            "196/196 [==============================] - 9s 48ms/step - loss: 1.0027 - accuracy: 0.6930 - val_loss: 2.2240 - val_accuracy: 0.4720\n",
            "Epoch 3/150\n",
            "196/196 [==============================] - 9s 47ms/step - loss: 0.9850 - accuracy: 0.6993 - val_loss: 2.2300 - val_accuracy: 0.4744\n",
            "Epoch 4/150\n",
            "196/196 [==============================] - 9s 48ms/step - loss: 0.9718 - accuracy: 0.7040 - val_loss: 2.2746 - val_accuracy: 0.4677\n",
            "Epoch 5/150\n",
            "196/196 [==============================] - 10s 50ms/step - loss: 0.9659 - accuracy: 0.7050 - val_loss: 2.2566 - val_accuracy: 0.4680\n",
            "Epoch 6/150\n",
            "196/196 [==============================] - 10s 52ms/step - loss: 0.9538 - accuracy: 0.7093 - val_loss: 2.2559 - val_accuracy: 0.4746\n",
            "Epoch 7/150\n",
            "196/196 [==============================] - 9s 47ms/step - loss: 0.9549 - accuracy: 0.7061 - val_loss: 2.2362 - val_accuracy: 0.4732\n",
            "Epoch 8/150\n",
            "196/196 [==============================] - 9s 47ms/step - loss: 0.9430 - accuracy: 0.7126 - val_loss: 2.2225 - val_accuracy: 0.4756\n",
            "Epoch 9/150\n",
            "196/196 [==============================] - 10s 51ms/step - loss: 0.9287 - accuracy: 0.7151 - val_loss: 2.2506 - val_accuracy: 0.4715\n",
            "Epoch 10/150\n",
            "196/196 [==============================] - 9s 47ms/step - loss: 0.9277 - accuracy: 0.7153 - val_loss: 2.2743 - val_accuracy: 0.4702\n",
            "Epoch 11/150\n",
            "196/196 [==============================] - 9s 47ms/step - loss: 0.9200 - accuracy: 0.7193 - val_loss: 2.2324 - val_accuracy: 0.4699\n",
            "Epoch 12/150\n",
            "196/196 [==============================] - 9s 47ms/step - loss: 0.9025 - accuracy: 0.7239 - val_loss: 2.2926 - val_accuracy: 0.4688\n",
            "Epoch 13/150\n",
            "196/196 [==============================] - 9s 47ms/step - loss: 0.9082 - accuracy: 0.7245 - val_loss: 2.2557 - val_accuracy: 0.4715\n",
            "Epoch 14/150\n",
            "196/196 [==============================] - 9s 47ms/step - loss: 0.8888 - accuracy: 0.7257 - val_loss: 2.2722 - val_accuracy: 0.4777\n",
            "Epoch 15/150\n",
            "196/196 [==============================] - 9s 47ms/step - loss: 0.8886 - accuracy: 0.7265 - val_loss: 2.2862 - val_accuracy: 0.4739\n",
            "Epoch 16/150\n",
            "196/196 [==============================] - 10s 50ms/step - loss: 0.8869 - accuracy: 0.7279 - val_loss: 2.2800 - val_accuracy: 0.4734\n",
            "Epoch 17/150\n",
            "196/196 [==============================] - 10s 50ms/step - loss: 0.8832 - accuracy: 0.7293 - val_loss: 2.2836 - val_accuracy: 0.4751\n",
            "Epoch 18/150\n",
            "196/196 [==============================] - 9s 47ms/step - loss: 0.8646 - accuracy: 0.7330 - val_loss: 2.2695 - val_accuracy: 0.4806\n",
            "Epoch 19/150\n",
            "196/196 [==============================] - 10s 50ms/step - loss: 0.8586 - accuracy: 0.7336 - val_loss: 2.2631 - val_accuracy: 0.4717\n",
            "Epoch 20/150\n",
            "196/196 [==============================] - 9s 47ms/step - loss: 0.8542 - accuracy: 0.7373 - val_loss: 2.2755 - val_accuracy: 0.4767\n",
            "Epoch 21/150\n",
            "196/196 [==============================] - 9s 47ms/step - loss: 0.8305 - accuracy: 0.7428 - val_loss: 2.2999 - val_accuracy: 0.4731\n",
            "Epoch 22/150\n",
            "196/196 [==============================] - 9s 47ms/step - loss: 0.8413 - accuracy: 0.7414 - val_loss: 2.3228 - val_accuracy: 0.4730\n",
            "Epoch 23/150\n",
            "196/196 [==============================] - 10s 50ms/step - loss: 0.8329 - accuracy: 0.7413 - val_loss: 2.2961 - val_accuracy: 0.4750\n",
            "Epoch 24/150\n",
            "196/196 [==============================] - 10s 50ms/step - loss: 0.8364 - accuracy: 0.7398 - val_loss: 2.3233 - val_accuracy: 0.4755\n",
            "Epoch 25/150\n",
            "196/196 [==============================] - 10s 50ms/step - loss: 0.8235 - accuracy: 0.7448 - val_loss: 2.2914 - val_accuracy: 0.4777\n",
            "Epoch 26/150\n",
            "196/196 [==============================] - 9s 47ms/step - loss: 0.8123 - accuracy: 0.7458 - val_loss: 2.3240 - val_accuracy: 0.4730\n",
            "Epoch 27/150\n",
            "196/196 [==============================] - 10s 50ms/step - loss: 0.8125 - accuracy: 0.7493 - val_loss: 2.2973 - val_accuracy: 0.4769\n",
            "Epoch 28/150\n",
            "196/196 [==============================] - 10s 50ms/step - loss: 0.8048 - accuracy: 0.7492 - val_loss: 2.3214 - val_accuracy: 0.4695\n",
            "Epoch 29/150\n",
            "196/196 [==============================] - 10s 50ms/step - loss: 0.8093 - accuracy: 0.7499 - val_loss: 2.3114 - val_accuracy: 0.4737\n",
            "Epoch 30/150\n",
            "196/196 [==============================] - 9s 47ms/step - loss: 0.7929 - accuracy: 0.7544 - val_loss: 2.2894 - val_accuracy: 0.4727\n",
            "Epoch 31/150\n",
            "196/196 [==============================] - 9s 47ms/step - loss: 0.7879 - accuracy: 0.7568 - val_loss: 2.3312 - val_accuracy: 0.4715\n",
            "Epoch 32/150\n",
            "196/196 [==============================] - 9s 47ms/step - loss: 0.7832 - accuracy: 0.7583 - val_loss: 2.3213 - val_accuracy: 0.4759\n",
            "Epoch 33/150\n",
            "196/196 [==============================] - 10s 50ms/step - loss: 0.7717 - accuracy: 0.7588 - val_loss: 2.3478 - val_accuracy: 0.4752\n",
            "Epoch 34/150\n",
            "196/196 [==============================] - 10s 50ms/step - loss: 0.7841 - accuracy: 0.7568 - val_loss: 2.3224 - val_accuracy: 0.4787\n",
            "Epoch 35/150\n",
            "196/196 [==============================] - 9s 47ms/step - loss: 0.7704 - accuracy: 0.7619 - val_loss: 2.3406 - val_accuracy: 0.4735\n",
            "Epoch 36/150\n",
            "196/196 [==============================] - 10s 50ms/step - loss: 0.7756 - accuracy: 0.7593 - val_loss: 2.3285 - val_accuracy: 0.4772\n",
            "Epoch 37/150\n",
            "196/196 [==============================] - 9s 47ms/step - loss: 0.7670 - accuracy: 0.7598 - val_loss: 2.3585 - val_accuracy: 0.4771\n",
            "Epoch 38/150\n",
            "196/196 [==============================] - 9s 47ms/step - loss: 0.7510 - accuracy: 0.7663 - val_loss: 2.3504 - val_accuracy: 0.4785\n",
            "Epoch 39/150\n",
            "196/196 [==============================] - 9s 47ms/step - loss: 0.7416 - accuracy: 0.7687 - val_loss: 2.3628 - val_accuracy: 0.4756\n",
            "Epoch 40/150\n",
            "196/196 [==============================] - 9s 47ms/step - loss: 0.7533 - accuracy: 0.7634 - val_loss: 2.3553 - val_accuracy: 0.4715\n",
            "Epoch 41/150\n",
            "196/196 [==============================] - 10s 50ms/step - loss: 0.7499 - accuracy: 0.7666 - val_loss: 2.3746 - val_accuracy: 0.4784\n",
            "Epoch 42/150\n",
            "196/196 [==============================] - 9s 47ms/step - loss: 0.7322 - accuracy: 0.7732 - val_loss: 2.3839 - val_accuracy: 0.4695\n",
            "Epoch 43/150\n",
            "196/196 [==============================] - 9s 47ms/step - loss: 0.7372 - accuracy: 0.7697 - val_loss: 2.3514 - val_accuracy: 0.4754\n",
            "Epoch 44/150\n",
            "196/196 [==============================] - 9s 47ms/step - loss: 0.7227 - accuracy: 0.7750 - val_loss: 2.3714 - val_accuracy: 0.4749\n",
            "Epoch 45/150\n",
            "196/196 [==============================] - 9s 47ms/step - loss: 0.7188 - accuracy: 0.7763 - val_loss: 2.3856 - val_accuracy: 0.4714\n",
            "Epoch 46/150\n",
            "196/196 [==============================] - 9s 47ms/step - loss: 0.7353 - accuracy: 0.7713 - val_loss: 2.3790 - val_accuracy: 0.4737\n",
            "Epoch 47/150\n",
            "196/196 [==============================] - 10s 50ms/step - loss: 0.7192 - accuracy: 0.7746 - val_loss: 2.3768 - val_accuracy: 0.4732\n",
            "Epoch 48/150\n",
            "196/196 [==============================] - 9s 48ms/step - loss: 0.7170 - accuracy: 0.7772 - val_loss: 2.3846 - val_accuracy: 0.4718\n",
            "Epoch 49/150\n",
            "196/196 [==============================] - 9s 47ms/step - loss: 0.7189 - accuracy: 0.7768 - val_loss: 2.4031 - val_accuracy: 0.4775\n",
            "Epoch 50/150\n",
            "196/196 [==============================] - 10s 50ms/step - loss: 0.7073 - accuracy: 0.7779 - val_loss: 2.3978 - val_accuracy: 0.4771\n",
            "Epoch 51/150\n",
            "196/196 [==============================] - 10s 50ms/step - loss: 0.7116 - accuracy: 0.7789 - val_loss: 2.4025 - val_accuracy: 0.4752\n",
            "Epoch 52/150\n",
            "196/196 [==============================] - 10s 50ms/step - loss: 0.7022 - accuracy: 0.7809 - val_loss: 2.3973 - val_accuracy: 0.4778\n",
            "Epoch 53/150\n",
            "196/196 [==============================] - 9s 47ms/step - loss: 0.7108 - accuracy: 0.7783 - val_loss: 2.3741 - val_accuracy: 0.4755\n",
            "Epoch 54/150\n",
            "196/196 [==============================] - 10s 50ms/step - loss: 0.6959 - accuracy: 0.7831 - val_loss: 2.3802 - val_accuracy: 0.4714\n",
            "Epoch 55/150\n",
            "196/196 [==============================] - 9s 47ms/step - loss: 0.6974 - accuracy: 0.7818 - val_loss: 2.4199 - val_accuracy: 0.4763\n",
            "Epoch 56/150\n",
            "196/196 [==============================] - 9s 47ms/step - loss: 0.6892 - accuracy: 0.7832 - val_loss: 2.4144 - val_accuracy: 0.4732\n",
            "Epoch 57/150\n",
            "196/196 [==============================] - 9s 47ms/step - loss: 0.6820 - accuracy: 0.7859 - val_loss: 2.4238 - val_accuracy: 0.4776\n",
            "Epoch 58/150\n",
            "196/196 [==============================] - 10s 50ms/step - loss: 0.6881 - accuracy: 0.7887 - val_loss: 2.3963 - val_accuracy: 0.4723\n",
            "Epoch 59/150\n",
            "196/196 [==============================] - 9s 47ms/step - loss: 0.6787 - accuracy: 0.7881 - val_loss: 2.3813 - val_accuracy: 0.4778\n",
            "Epoch 60/150\n",
            "196/196 [==============================] - 9s 47ms/step - loss: 0.6772 - accuracy: 0.7889 - val_loss: 2.3888 - val_accuracy: 0.4774\n",
            "Epoch 61/150\n",
            "196/196 [==============================] - 9s 47ms/step - loss: 0.6828 - accuracy: 0.7853 - val_loss: 2.3851 - val_accuracy: 0.4741\n",
            "Epoch 62/150\n",
            "196/196 [==============================] - 9s 47ms/step - loss: 0.6852 - accuracy: 0.7870 - val_loss: 2.3947 - val_accuracy: 0.4809\n",
            "Epoch 63/150\n",
            "196/196 [==============================] - 9s 47ms/step - loss: 0.6684 - accuracy: 0.7904 - val_loss: 2.4156 - val_accuracy: 0.4790\n",
            "Epoch 64/150\n",
            "196/196 [==============================] - 9s 47ms/step - loss: 0.6587 - accuracy: 0.7929 - val_loss: 2.4685 - val_accuracy: 0.4790\n",
            "Epoch 65/150\n",
            "196/196 [==============================] - 9s 47ms/step - loss: 0.6552 - accuracy: 0.7954 - val_loss: 2.4670 - val_accuracy: 0.4729\n",
            "Epoch 66/150\n",
            "196/196 [==============================] - 10s 51ms/step - loss: 0.6561 - accuracy: 0.7954 - val_loss: 2.4471 - val_accuracy: 0.4741\n",
            "Epoch 67/150\n",
            "196/196 [==============================] - 9s 47ms/step - loss: 0.6547 - accuracy: 0.7945 - val_loss: 2.4344 - val_accuracy: 0.4747\n",
            "Epoch 68/150\n",
            "196/196 [==============================] - 9s 48ms/step - loss: 0.6478 - accuracy: 0.7966 - val_loss: 2.4357 - val_accuracy: 0.4779\n",
            "Epoch 69/150\n",
            "196/196 [==============================] - 9s 48ms/step - loss: 0.6557 - accuracy: 0.7945 - val_loss: 2.4207 - val_accuracy: 0.4816\n",
            "Epoch 70/150\n",
            "196/196 [==============================] - 9s 48ms/step - loss: 0.6618 - accuracy: 0.7928 - val_loss: 2.4154 - val_accuracy: 0.4797\n",
            "Epoch 71/150\n",
            "196/196 [==============================] - 9s 48ms/step - loss: 0.6410 - accuracy: 0.7981 - val_loss: 2.4997 - val_accuracy: 0.4760\n",
            "Epoch 72/150\n",
            "196/196 [==============================] - 9s 48ms/step - loss: 0.6424 - accuracy: 0.7998 - val_loss: 2.4149 - val_accuracy: 0.4771\n",
            "Epoch 73/150\n",
            "196/196 [==============================] - 9s 48ms/step - loss: 0.6341 - accuracy: 0.8008 - val_loss: 2.4484 - val_accuracy: 0.4782\n",
            "Epoch 74/150\n",
            "196/196 [==============================] - 10s 51ms/step - loss: 0.6287 - accuracy: 0.8036 - val_loss: 2.4585 - val_accuracy: 0.4793\n",
            "Epoch 75/150\n",
            "196/196 [==============================] - 10s 51ms/step - loss: 0.6312 - accuracy: 0.8024 - val_loss: 2.4771 - val_accuracy: 0.4776\n",
            "Epoch 76/150\n",
            "196/196 [==============================] - 10s 51ms/step - loss: 0.6362 - accuracy: 0.8009 - val_loss: 2.4188 - val_accuracy: 0.4826\n",
            "Epoch 77/150\n",
            "196/196 [==============================] - 9s 48ms/step - loss: 0.6290 - accuracy: 0.8034 - val_loss: 2.4258 - val_accuracy: 0.4772\n",
            "Epoch 78/150\n",
            "196/196 [==============================] - 9s 48ms/step - loss: 0.6340 - accuracy: 0.8018 - val_loss: 2.4863 - val_accuracy: 0.4760\n",
            "Epoch 79/150\n",
            "196/196 [==============================] - 10s 51ms/step - loss: 0.6264 - accuracy: 0.8025 - val_loss: 2.4608 - val_accuracy: 0.4787\n",
            "Epoch 80/150\n",
            "196/196 [==============================] - 9s 47ms/step - loss: 0.6334 - accuracy: 0.8003 - val_loss: 2.4541 - val_accuracy: 0.4785\n",
            "Epoch 81/150\n",
            "196/196 [==============================] - 10s 50ms/step - loss: 0.6334 - accuracy: 0.8027 - val_loss: 2.4941 - val_accuracy: 0.4770\n",
            "Epoch 82/150\n",
            "196/196 [==============================] - 10s 50ms/step - loss: 0.6152 - accuracy: 0.8051 - val_loss: 2.4991 - val_accuracy: 0.4782\n",
            "Epoch 83/150\n",
            "196/196 [==============================] - 9s 47ms/step - loss: 0.6122 - accuracy: 0.8067 - val_loss: 2.5072 - val_accuracy: 0.4762\n",
            "Epoch 84/150\n",
            "196/196 [==============================] - 9s 47ms/step - loss: 0.6259 - accuracy: 0.8035 - val_loss: 2.4398 - val_accuracy: 0.4761\n",
            "Epoch 85/150\n",
            "196/196 [==============================] - 11s 57ms/step - loss: 0.6108 - accuracy: 0.8099 - val_loss: 2.5008 - val_accuracy: 0.4779\n",
            "Epoch 86/150\n",
            "196/196 [==============================] - 10s 52ms/step - loss: 0.6121 - accuracy: 0.8086 - val_loss: 2.4775 - val_accuracy: 0.4801\n",
            "Epoch 87/150\n",
            "196/196 [==============================] - 10s 50ms/step - loss: 0.6113 - accuracy: 0.8101 - val_loss: 2.4860 - val_accuracy: 0.4783\n",
            "Epoch 88/150\n",
            "196/196 [==============================] - 10s 51ms/step - loss: 0.6018 - accuracy: 0.8106 - val_loss: 2.4880 - val_accuracy: 0.4779\n",
            "Epoch 89/150\n",
            "196/196 [==============================] - 10s 50ms/step - loss: 0.6132 - accuracy: 0.8069 - val_loss: 2.4907 - val_accuracy: 0.4848\n",
            "Epoch 90/150\n",
            "196/196 [==============================] - 9s 47ms/step - loss: 0.6091 - accuracy: 0.8125 - val_loss: 2.4257 - val_accuracy: 0.4851\n",
            "Epoch 91/150\n",
            "196/196 [==============================] - 9s 47ms/step - loss: 0.5991 - accuracy: 0.8135 - val_loss: 2.5105 - val_accuracy: 0.4760\n",
            "Epoch 92/150\n",
            "196/196 [==============================] - 10s 52ms/step - loss: 0.6118 - accuracy: 0.8090 - val_loss: 2.4857 - val_accuracy: 0.4804\n",
            "Epoch 93/150\n",
            "196/196 [==============================] - 9s 48ms/step - loss: 0.5987 - accuracy: 0.8135 - val_loss: 2.4750 - val_accuracy: 0.4783\n",
            "Epoch 94/150\n",
            "196/196 [==============================] - 9s 48ms/step - loss: 0.5945 - accuracy: 0.8157 - val_loss: 2.5013 - val_accuracy: 0.4811\n",
            "Epoch 95/150\n",
            "196/196 [==============================] - 10s 49ms/step - loss: 0.5854 - accuracy: 0.8158 - val_loss: 2.5086 - val_accuracy: 0.4786\n",
            "Epoch 96/150\n",
            "196/196 [==============================] - 10s 49ms/step - loss: 0.5857 - accuracy: 0.8182 - val_loss: 2.5150 - val_accuracy: 0.4730\n",
            "Epoch 97/150\n",
            "196/196 [==============================] - 9s 48ms/step - loss: 0.5923 - accuracy: 0.8144 - val_loss: 2.5474 - val_accuracy: 0.4762\n",
            "Epoch 98/150\n",
            "196/196 [==============================] - 9s 48ms/step - loss: 0.5903 - accuracy: 0.8150 - val_loss: 2.4904 - val_accuracy: 0.4739\n",
            "Epoch 99/150\n",
            "196/196 [==============================] - 10s 51ms/step - loss: 0.5965 - accuracy: 0.8122 - val_loss: 2.5125 - val_accuracy: 0.4813\n",
            "Epoch 100/150\n",
            "196/196 [==============================] - 10s 50ms/step - loss: 0.5951 - accuracy: 0.8136 - val_loss: 2.4973 - val_accuracy: 0.4751\n",
            "Epoch 101/150\n",
            "196/196 [==============================] - 9s 47ms/step - loss: 0.5767 - accuracy: 0.8179 - val_loss: 2.4923 - val_accuracy: 0.4800\n",
            "Epoch 102/150\n",
            "196/196 [==============================] - 9s 48ms/step - loss: 0.5851 - accuracy: 0.8166 - val_loss: 2.5304 - val_accuracy: 0.4755\n",
            "Epoch 103/150\n",
            "196/196 [==============================] - 9s 47ms/step - loss: 0.5801 - accuracy: 0.8192 - val_loss: 2.5095 - val_accuracy: 0.4783\n",
            "Epoch 104/150\n",
            "196/196 [==============================] - 10s 51ms/step - loss: 0.5685 - accuracy: 0.8226 - val_loss: 2.5044 - val_accuracy: 0.4761\n",
            "Epoch 105/150\n",
            "196/196 [==============================] - 9s 47ms/step - loss: 0.5755 - accuracy: 0.8210 - val_loss: 2.5144 - val_accuracy: 0.4782\n",
            "Epoch 106/150\n",
            "196/196 [==============================] - 9s 47ms/step - loss: 0.5841 - accuracy: 0.8158 - val_loss: 2.4679 - val_accuracy: 0.4799\n",
            "Epoch 107/150\n",
            "196/196 [==============================] - 10s 51ms/step - loss: 0.5698 - accuracy: 0.8196 - val_loss: 2.5301 - val_accuracy: 0.4711\n",
            "Epoch 108/150\n",
            "196/196 [==============================] - 9s 48ms/step - loss: 0.5768 - accuracy: 0.8189 - val_loss: 2.4903 - val_accuracy: 0.4746\n",
            "Epoch 109/150\n",
            "196/196 [==============================] - 9s 48ms/step - loss: 0.5707 - accuracy: 0.8209 - val_loss: 2.5004 - val_accuracy: 0.4766\n",
            "Epoch 110/150\n",
            "196/196 [==============================] - 9s 47ms/step - loss: 0.5581 - accuracy: 0.8251 - val_loss: 2.5344 - val_accuracy: 0.4788\n",
            "Epoch 111/150\n",
            "196/196 [==============================] - 9s 48ms/step - loss: 0.5613 - accuracy: 0.8247 - val_loss: 2.5439 - val_accuracy: 0.4772\n",
            "Epoch 112/150\n",
            "196/196 [==============================] - 10s 51ms/step - loss: 0.5631 - accuracy: 0.8231 - val_loss: 2.5033 - val_accuracy: 0.4785\n",
            "Epoch 113/150\n",
            "196/196 [==============================] - 9s 48ms/step - loss: 0.5551 - accuracy: 0.8264 - val_loss: 2.5182 - val_accuracy: 0.4803\n",
            "Epoch 114/150\n",
            "196/196 [==============================] - 9s 48ms/step - loss: 0.5528 - accuracy: 0.8269 - val_loss: 2.5568 - val_accuracy: 0.4774\n",
            "Epoch 115/150\n",
            "196/196 [==============================] - 9s 48ms/step - loss: 0.5555 - accuracy: 0.8260 - val_loss: 2.5448 - val_accuracy: 0.4772\n",
            "Epoch 116/150\n",
            "196/196 [==============================] - 9s 47ms/step - loss: 0.5599 - accuracy: 0.8253 - val_loss: 2.5165 - val_accuracy: 0.4788\n",
            "Epoch 117/150\n",
            "196/196 [==============================] - 9s 48ms/step - loss: 0.5466 - accuracy: 0.8285 - val_loss: 2.5560 - val_accuracy: 0.4773\n",
            "Epoch 118/150\n",
            "196/196 [==============================] - 9s 48ms/step - loss: 0.5677 - accuracy: 0.8206 - val_loss: 2.5361 - val_accuracy: 0.4772\n",
            "Epoch 119/150\n",
            "196/196 [==============================] - 9s 48ms/step - loss: 0.5485 - accuracy: 0.8269 - val_loss: 2.5220 - val_accuracy: 0.4843\n",
            "Epoch 120/150\n",
            "196/196 [==============================] - 10s 51ms/step - loss: 0.5443 - accuracy: 0.8284 - val_loss: 2.5110 - val_accuracy: 0.4789\n",
            "Epoch 121/150\n",
            "196/196 [==============================] - 10s 51ms/step - loss: 0.5528 - accuracy: 0.8266 - val_loss: 2.5180 - val_accuracy: 0.4759\n",
            "Epoch 122/150\n",
            "196/196 [==============================] - 10s 51ms/step - loss: 0.5341 - accuracy: 0.8320 - val_loss: 2.5880 - val_accuracy: 0.4768\n",
            "Epoch 123/150\n",
            "196/196 [==============================] - 10s 49ms/step - loss: 0.5497 - accuracy: 0.8269 - val_loss: 2.5453 - val_accuracy: 0.4701\n",
            "Epoch 124/150\n",
            "196/196 [==============================] - 10s 51ms/step - loss: 0.5470 - accuracy: 0.8293 - val_loss: 2.5614 - val_accuracy: 0.4738\n",
            "Epoch 125/150\n",
            "196/196 [==============================] - 9s 48ms/step - loss: 0.5395 - accuracy: 0.8311 - val_loss: 2.5666 - val_accuracy: 0.4780\n",
            "Epoch 126/150\n",
            "196/196 [==============================] - 9s 48ms/step - loss: 0.5341 - accuracy: 0.8329 - val_loss: 2.5155 - val_accuracy: 0.4782\n",
            "Epoch 127/150\n",
            "196/196 [==============================] - 9s 48ms/step - loss: 0.5345 - accuracy: 0.8314 - val_loss: 2.5417 - val_accuracy: 0.4777\n",
            "Epoch 128/150\n",
            "196/196 [==============================] - 9s 48ms/step - loss: 0.5473 - accuracy: 0.8277 - val_loss: 2.5445 - val_accuracy: 0.4714\n",
            "Epoch 129/150\n",
            "196/196 [==============================] - 10s 51ms/step - loss: 0.5355 - accuracy: 0.8320 - val_loss: 2.5814 - val_accuracy: 0.4737\n",
            "Epoch 130/150\n",
            "196/196 [==============================] - 10s 51ms/step - loss: 0.5267 - accuracy: 0.8341 - val_loss: 2.5564 - val_accuracy: 0.4741\n",
            "Epoch 131/150\n",
            "196/196 [==============================] - 9s 48ms/step - loss: 0.5345 - accuracy: 0.8326 - val_loss: 2.5320 - val_accuracy: 0.4777\n",
            "Epoch 132/150\n",
            "196/196 [==============================] - 9s 48ms/step - loss: 0.5399 - accuracy: 0.8307 - val_loss: 2.4985 - val_accuracy: 0.4814\n",
            "Epoch 133/150\n",
            "196/196 [==============================] - 9s 48ms/step - loss: 0.5284 - accuracy: 0.8338 - val_loss: 2.5236 - val_accuracy: 0.4835\n",
            "Epoch 134/150\n",
            "196/196 [==============================] - 9s 48ms/step - loss: 0.5263 - accuracy: 0.8342 - val_loss: 2.5076 - val_accuracy: 0.4822\n",
            "Epoch 135/150\n",
            "196/196 [==============================] - 10s 51ms/step - loss: 0.5240 - accuracy: 0.8353 - val_loss: 2.5373 - val_accuracy: 0.4781\n",
            "Epoch 136/150\n",
            "196/196 [==============================] - 9s 48ms/step - loss: 0.5268 - accuracy: 0.8357 - val_loss: 2.5448 - val_accuracy: 0.4825\n",
            "Epoch 137/150\n",
            "196/196 [==============================] - 9s 48ms/step - loss: 0.5230 - accuracy: 0.8359 - val_loss: 2.5775 - val_accuracy: 0.4785\n",
            "Epoch 138/150\n",
            "196/196 [==============================] - 10s 51ms/step - loss: 0.5303 - accuracy: 0.8340 - val_loss: 2.5744 - val_accuracy: 0.4824\n",
            "Epoch 139/150\n",
            "196/196 [==============================] - 10s 51ms/step - loss: 0.5263 - accuracy: 0.8355 - val_loss: 2.6216 - val_accuracy: 0.4795\n",
            "Epoch 140/150\n",
            "196/196 [==============================] - 10s 51ms/step - loss: 0.5281 - accuracy: 0.8354 - val_loss: 2.5544 - val_accuracy: 0.4756\n",
            "Epoch 141/150\n",
            "196/196 [==============================] - 9s 48ms/step - loss: 0.5212 - accuracy: 0.8343 - val_loss: 2.5820 - val_accuracy: 0.4795\n",
            "Epoch 142/150\n",
            "196/196 [==============================] - 9s 47ms/step - loss: 0.5210 - accuracy: 0.8375 - val_loss: 2.5603 - val_accuracy: 0.4812\n",
            "Epoch 143/150\n",
            "196/196 [==============================] - 10s 50ms/step - loss: 0.5200 - accuracy: 0.8358 - val_loss: 2.5891 - val_accuracy: 0.4740\n",
            "Epoch 144/150\n",
            "196/196 [==============================] - 9s 47ms/step - loss: 0.5181 - accuracy: 0.8361 - val_loss: 2.6288 - val_accuracy: 0.4747\n",
            "Epoch 145/150\n",
            "196/196 [==============================] - 9s 47ms/step - loss: 0.5060 - accuracy: 0.8407 - val_loss: 2.5476 - val_accuracy: 0.4770\n",
            "Epoch 146/150\n",
            "196/196 [==============================] - 10s 50ms/step - loss: 0.5061 - accuracy: 0.8410 - val_loss: 2.5836 - val_accuracy: 0.4801\n",
            "Epoch 147/150\n",
            "196/196 [==============================] - 9s 47ms/step - loss: 0.5118 - accuracy: 0.8401 - val_loss: 2.5670 - val_accuracy: 0.4841\n",
            "Epoch 148/150\n",
            "196/196 [==============================] - 10s 51ms/step - loss: 0.5118 - accuracy: 0.8399 - val_loss: 2.5683 - val_accuracy: 0.4821\n",
            "Epoch 149/150\n",
            "196/196 [==============================] - 9s 48ms/step - loss: 0.5139 - accuracy: 0.8394 - val_loss: 2.5655 - val_accuracy: 0.4827\n",
            "Epoch 150/150\n",
            "196/196 [==============================] - 10s 51ms/step - loss: 0.5169 - accuracy: 0.8387 - val_loss: 2.5829 - val_accuracy: 0.4792\n"
          ]
        }
      ],
      "source": [
        "\n",
        "#optimizer = SGD(lr = 0.01, momentum=0.9)\n",
        "optimizer = 'Adam'\n",
        "model.compile(optimizer=optimizer, loss = 'categorical_crossentropy', metrics=['accuracy'])\n",
        "history = model.fit(x_train,y_train,epochs=150, batch_size=256,validation_data=(x_test,y_test),verbose=1)\n"
      ]
    },
    {
      "cell_type": "markdown",
      "source": [
        "Lưu model"
      ],
      "metadata": {
        "id": "45wfk3-SCbQ5"
      }
    },
    {
      "cell_type": "code",
      "execution_count": null,
      "metadata": {
        "id": "NCTHhQJ8ly2n"
      },
      "outputs": [],
      "source": [
        "model.save('CNN_Cifar100.h5')"
      ]
    },
    {
      "cell_type": "markdown",
      "source": [
        "Đánh giá độ chính xác"
      ],
      "metadata": {
        "id": "9esy4ZvGCeKZ"
      }
    },
    {
      "cell_type": "code",
      "execution_count": null,
      "metadata": {
        "colab": {
          "base_uri": "https://localhost:8080/"
        },
        "id": "xP9FRY4Bl15T",
        "outputId": "9a67bee1-7581-4bce-adfa-4848bbd657d2"
      },
      "outputs": [
        {
          "output_type": "stream",
          "name": "stdout",
          "text": [
            "sai so kiem tra la: 2.5828793048858643\n",
            "do chinh xac kiem tra: 0.47920000553131104\n",
            "[3.5224212e-11 3.8375876e-07 9.4208721e-05 ... 3.2319095e-11 2.4359434e-10\n",
            " 7.5219012e-11]\n",
            "[[0. 0. 0. ... 0. 0. 0.]\n",
            " [0. 0. 0. ... 0. 0. 0.]\n",
            " [0. 0. 0. ... 0. 0. 0.]\n",
            " ...\n",
            " [0. 0. 0. ... 0. 0. 0.]\n",
            " [0. 0. 0. ... 0. 0. 0.]\n",
            " [0. 0. 0. ... 0. 0. 0.]]\n"
          ]
        }
      ],
      "source": [
        "score = model.evaluate(x_test,y_test,verbose=0)\n",
        "print('sai so kiem tra la:',score[0])\n",
        "print('do chinh xac kiem tra:',score[1])\n",
        "y_pred = model.predict(x_test)\n",
        "print(y_pred.flatten())\n",
        "print(y_test)"
      ]
    },
    {
      "cell_type": "markdown",
      "source": [
        "Vẽ đồ thị đọ chính xác"
      ],
      "metadata": {
        "id": "dGfwXNt5Ckj5"
      }
    },
    {
      "cell_type": "code",
      "execution_count": null,
      "metadata": {
        "colab": {
          "base_uri": "https://localhost:8080/",
          "height": 845
        },
        "id": "lk73pHtKl4Rf",
        "outputId": "d5f2877f-0fc9-4c89-dfd2-3951234c5c44"
      },
      "outputs": [
        {
          "output_type": "display_data",
          "data": {
            "text/plain": [
              "<Figure size 576x360 with 1 Axes>"
            ],
            "image/png": "[encoded data removed]"
          },
          "metadata": {
            "needs_background": "light"
          }
        },
        {
          "output_type": "stream",
          "name": "stderr",
          "text": [
            "/usr/local/lib/python3.7/dist-packages/ipykernel_launcher.py:12: MatplotlibDeprecationWarning: Unrecognized location 'upperleft'. Falling back on 'best'; valid locations are\n",
            "\tbest\n",
            "\tupper right\n",
            "\tupper left\n",
            "\tlower left\n",
            "\tlower right\n",
            "\tright\n",
            "\tcenter left\n",
            "\tcenter right\n",
            "\tlower center\n",
            "\tupper center\n",
            "\tcenter\n",
            "This will raise an exception in 3.3.\n",
            "  if sys.path[0] == '':\n"
          ]
        },
        {
          "output_type": "display_data",
          "data": {
            "text/plain": [
              "<Figure size 432x288 with 1 Axes>"
            ],
            "image/png": "[encoded data removed]"
          },
          "metadata": {
            "needs_background": "light"
          }
        }
      ],
      "source": [
        "# Graphs of accuracy\n",
        "pd.DataFrame(history.history).plot(figsize=(8,5))\n",
        "plt.grid(True)\n",
        "plt.gca().set_ylim(0,1)\n",
        "plt.show()\n",
        "\n",
        "plt.plot(history.history['accuracy'])\n",
        "plt.plot(history.history['val_accuracy'])\n",
        "plt.title('model accuracy')\n",
        "plt.ylabel('accuracy')\n",
        "plt.xlabel('epoch')\n",
        "plt.legend(['train','validation'],loc='upperleft')\n",
        "plt.show()"
      ]
    },
    {
      "cell_type": "code",
      "execution_count": null,
      "metadata": {
        "colab": {
          "base_uri": "https://localhost:8080/",
          "height": 39,
          "resources": {
            "http://localhost:8080/nbextensions/google.colab/files.js": {
              "data": "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",
              "headers": [
                [
                  "content-type",
                  "application/javascript"
                ]
              ],
              "ok": true,
              "status": 200,
              "status_text": ""
            }
          }
        },
        "id": "I5heehnQ3lLQ",
        "outputId": "7071ead8-cdee-40b5-c61f-54fa293cddcc"
      },
      "outputs": [
        {
          "data": {
            "text/html": [
              "\n",
              "     <input type=\"file\" id=\"files-53af7d5f-99f1-46d6-92af-02343317ef50\" name=\"files[]\" multiple disabled\n",
              "        style=\"border:none\" />\n",
              "     <output id=\"result-53af7d5f-99f1-46d6-92af-02343317ef50\">\n",
              "      Upload widget is only available when the cell has been executed in the\n",
              "      current browser session. Please rerun this cell to enable.\n",
              "      </output>\n",
              "      <script src=\"/nbextensions/google.colab/files.js\"></script> "
            ],
            "text/plain": [
              "<IPython.core.display.HTML object>"
            ]
          },
          "metadata": {},
          "output_type": "display_data"
        }
      ],
      "source": [
        "from google.colab import files\n",
        "uploaded = files.upload()"
      ]
    },
    {
      "cell_type": "code",
      "execution_count": null,
      "metadata": {
        "colab": {
          "base_uri": "https://localhost:8080/",
          "height": 283
        },
        "id": "g7NO6xdn3qfn",
        "outputId": "cb8b4e9e-11fc-4803-eae7-d63ed6b75e59"
      },
      "outputs": [
        {
          "data": {
            "text/plain": [
              "array([58])"
            ]
          },
          "execution_count": 53,
          "metadata": {},
          "output_type": "execute_result"
        },
        {
          "data": {
            "image/png": "[encoded data removed]",
            "text/plain": [
              "<Figure size 432x288 with 1 Axes>"
            ]
          },
          "metadata": {},
          "output_type": "display_data"
        }
      ],
      "source": [
        "# tải ảnh con chó lên rùi nhận dạng\n",
        "from keras.saving.save import load_model\n",
        "from keras.preprocessing.image import load_img, img_to_array\n",
        "import numpy as np\n",
        "\n",
        "model= load_model('CNN_Cifar100.h5')\n",
        "img = load_img('xehoi.jpg', target_size= (32,32))\n",
        "plt.imshow(img)\n",
        "img = img_to_array(img)\n",
        "\n",
        "img=img.reshape(1,32,32,3)\n",
        "img = img.astype('float32')\n",
        "img= img/255\n",
        "np.argmax(model.predict(img),axis=1)\n",
        "\n",
        "\n"
      ]
    }
  ],
  "metadata": {
    "accelerator": "GPU",
    "colab": {
      "collapsed_sections": [],
      "name": "CNN_Cifar_100.ipynb",
      "provenance": [],
      "authorship_tag": "ABX9TyP45sJk+9fEvezYC6Kj0n+f",
      "include_colab_link": true
    },
    "kernelspec": {
      "display_name": "Python 3",
      "name": "python3"
    },
    "language_info": {
      "name": "python"
    }
  },
  "nbformat": 4,
  "nbformat_minor": 0
}